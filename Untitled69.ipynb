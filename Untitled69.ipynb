{
 "cells": [
  {
   "cell_type": "code",
   "execution_count": 1,
   "id": "5ed90c4e",
   "metadata": {},
   "outputs": [],
   "source": [
    "import selenium\n",
    "import pandas as pd\n",
    "from selenium import webdriver\n",
    "from selenium.webdriver.common.by import By\n",
    "import warnings\n",
    "warnings.filterwarnings('ignore')\n",
    "import time"
   ]
  },
  {
   "cell_type": "code",
   "execution_count": 2,
   "id": "2ada227d",
   "metadata": {},
   "outputs": [],
   "source": [
    "driver=webdriver.Chrome()"
   ]
  },
  {
   "cell_type": "code",
   "execution_count": 111,
   "id": "26ee06e2",
   "metadata": {},
   "outputs": [],
   "source": [
    "driver.get('https://www.shine.com/')"
   ]
  },
  {
   "cell_type": "code",
   "execution_count": 5,
   "id": "c23bbb18",
   "metadata": {},
   "outputs": [],
   "source": [
    "title=driver.find_element(By.CLASS_NAME,\"form-control  \")\n",
    "title.send_keys('Data Analyst')"
   ]
  },
  {
   "cell_type": "code",
   "execution_count": 6,
   "id": "8ce24bb4",
   "metadata": {},
   "outputs": [],
   "source": [
    "loc=driver.find_element(By.XPATH,\"/html/body/div[1]/div[4]/div/div[2]/div[2]/div/form/div/div[1]/ul/li[2]/div/input\")\n",
    "loc.send_keys('Bangalore')"
   ]
  },
  {
   "cell_type": "code",
   "execution_count": 10,
   "id": "0c0b2008",
   "metadata": {},
   "outputs": [],
   "source": [
    "search=driver.find_element(By.CLASS_NAME,\"searchForm_btnWrap_advance__VYBHN\")\n",
    "search.click()"
   ]
  },
  {
   "cell_type": "code",
   "execution_count": 11,
   "id": "99c986d9",
   "metadata": {},
   "outputs": [],
   "source": [
    "job = []"
   ]
  },
  {
   "cell_type": "code",
   "execution_count": 12,
   "id": "911f6235",
   "metadata": {},
   "outputs": [],
   "source": [
    "job_title=driver.find_elements(By.XPATH,'//h2[@itemprop=\"name\"]')\n",
    "for i in job_title[:10]:\n",
    "    title=i.text\n",
    "    job.append(title)"
   ]
  },
  {
   "cell_type": "code",
   "execution_count": 13,
   "id": "5af07a51",
   "metadata": {},
   "outputs": [
    {
     "data": {
      "text/plain": [
       "['Project Coordinator (Data Analyst)',\n",
       " 'Data Analyst - Java/Python',\n",
       " 'Hiring For Data Analyst',\n",
       " 'Senior Data Analyst',\n",
       " 'Data Analyst',\n",
       " 'Data Analyst Urgent Recruiment',\n",
       " 'Apply Now a Data Analyst',\n",
       " 'Apply Now Data Analyst',\n",
       " 'Needed for Data Analyst',\n",
       " 'Urgently need a Data Analyst']"
      ]
     },
     "execution_count": 13,
     "metadata": {},
     "output_type": "execute_result"
    }
   ],
   "source": [
    "job"
   ]
  },
  {
   "cell_type": "code",
   "execution_count": 19,
   "id": "0aba129f",
   "metadata": {},
   "outputs": [],
   "source": [
    "company = []\n",
    "experience = []\n",
    "location = []"
   ]
  },
  {
   "cell_type": "code",
   "execution_count": null,
   "id": "733701b1",
   "metadata": {},
   "outputs": [],
   "source": []
  },
  {
   "cell_type": "code",
   "execution_count": 20,
   "id": "5ccdca7b",
   "metadata": {},
   "outputs": [],
   "source": [
    "company_name=driver.find_elements(By.CLASS_NAME,\"jobCard_jobCard_cName__mYnow\")\n",
    "for i in company_name[0:10]:\n",
    "    name=i.text\n",
    "    company.append(name)\n",
    "    \n",
    "EXP=driver.find_elements(By.XPATH,'//div[@class=\" jobCard_jobCard_lists_item__YxRkV jobCard_jobIcon__3FB1t\"]')\n",
    "for i in EXP[0:10]:\n",
    "    exper=i.text\n",
    "    experience.append(exper)\n",
    "\n",
    "loc=driver.find_elements(By.XPATH,'//div[@class=\" jobCard_jobCard_lists_item__YxRkV jobCard_locationIcon__zrWt2\"]')\n",
    "for i in loc[:10]:\n",
    "    lac=i.text\n",
    "    location.append(lac)\n",
    "    \n",
    "    "
   ]
  },
  {
   "cell_type": "code",
   "execution_count": 21,
   "id": "8d700102",
   "metadata": {},
   "outputs": [
    {
     "data": {
      "text/plain": [
       "['2 to 4 Yrs',\n",
       " '3 to 6 Yrs',\n",
       " '0 to 4 Yrs',\n",
       " '2 to 5 Yrs',\n",
       " '7 to 12 Yrs',\n",
       " '0 to 4 Yrs',\n",
       " '1 to 2 Yrs',\n",
       " '1 to 2 Yrs',\n",
       " '1 to 2 Yrs',\n",
       " '1 to 2 Yrs']"
      ]
     },
     "execution_count": 21,
     "metadata": {},
     "output_type": "execute_result"
    }
   ],
   "source": [
    "experience"
   ]
  },
  {
   "cell_type": "code",
   "execution_count": 22,
   "id": "58c6233e",
   "metadata": {},
   "outputs": [
    {
     "data": {
      "text/plain": [
       "['Bangalore',\n",
       " 'Bangalore',\n",
       " 'Bangalore\\n+14',\n",
       " 'Bangalore',\n",
       " 'Bangalore\\n+9',\n",
       " 'Bangalore\\n+14',\n",
       " 'Bangalore',\n",
       " 'Bangalore',\n",
       " 'Bangalore',\n",
       " 'Bangalore']"
      ]
     },
     "execution_count": 22,
     "metadata": {},
     "output_type": "execute_result"
    }
   ],
   "source": [
    "location\n",
    "\n"
   ]
  },
  {
   "cell_type": "code",
   "execution_count": 23,
   "id": "8a303cde",
   "metadata": {},
   "outputs": [
    {
     "data": {
      "text/plain": [
       "['futures and careers',\n",
       " 'boyen haddin consulting and technol...',\n",
       " 'kavya staffing solutions',\n",
       " 'ara resources private limited',\n",
       " 'ashutosh sabhashankar chaturvedi hi...',\n",
       " 'divya interprises',\n",
       " 'deuglo infosystem private limited',\n",
       " 'deuglo infosystem private limited',\n",
       " 'deuglo infosystem private limited',\n",
       " 'deuglo infosystem private limited']"
      ]
     },
     "execution_count": 23,
     "metadata": {},
     "output_type": "execute_result"
    }
   ],
   "source": [
    "company"
   ]
  },
  {
   "cell_type": "code",
   "execution_count": 24,
   "id": "f961c039",
   "metadata": {},
   "outputs": [
    {
     "data": {
      "text/html": [
       "<div>\n",
       "<style scoped>\n",
       "    .dataframe tbody tr th:only-of-type {\n",
       "        vertical-align: middle;\n",
       "    }\n",
       "\n",
       "    .dataframe tbody tr th {\n",
       "        vertical-align: top;\n",
       "    }\n",
       "\n",
       "    .dataframe thead th {\n",
       "        text-align: right;\n",
       "    }\n",
       "</style>\n",
       "<table border=\"1\" class=\"dataframe\">\n",
       "  <thead>\n",
       "    <tr style=\"text-align: right;\">\n",
       "      <th></th>\n",
       "      <th>COMPANY_NAME</th>\n",
       "      <th>job_name</th>\n",
       "      <th>Experience</th>\n",
       "      <th>LOCATION</th>\n",
       "    </tr>\n",
       "  </thead>\n",
       "  <tbody>\n",
       "    <tr>\n",
       "      <th>0</th>\n",
       "      <td>futures and careers</td>\n",
       "      <td>Project Coordinator (Data Analyst)</td>\n",
       "      <td>2 to 4 Yrs</td>\n",
       "      <td>Bangalore</td>\n",
       "    </tr>\n",
       "    <tr>\n",
       "      <th>1</th>\n",
       "      <td>boyen haddin consulting and technol...</td>\n",
       "      <td>Data Analyst - Java/Python</td>\n",
       "      <td>3 to 6 Yrs</td>\n",
       "      <td>Bangalore</td>\n",
       "    </tr>\n",
       "    <tr>\n",
       "      <th>2</th>\n",
       "      <td>kavya staffing solutions</td>\n",
       "      <td>Hiring For Data Analyst</td>\n",
       "      <td>0 to 4 Yrs</td>\n",
       "      <td>Bangalore\\n+14</td>\n",
       "    </tr>\n",
       "    <tr>\n",
       "      <th>3</th>\n",
       "      <td>ara resources private limited</td>\n",
       "      <td>Senior Data Analyst</td>\n",
       "      <td>2 to 5 Yrs</td>\n",
       "      <td>Bangalore</td>\n",
       "    </tr>\n",
       "    <tr>\n",
       "      <th>4</th>\n",
       "      <td>ashutosh sabhashankar chaturvedi hi...</td>\n",
       "      <td>Data Analyst</td>\n",
       "      <td>7 to 12 Yrs</td>\n",
       "      <td>Bangalore\\n+9</td>\n",
       "    </tr>\n",
       "    <tr>\n",
       "      <th>5</th>\n",
       "      <td>divya interprises</td>\n",
       "      <td>Data Analyst Urgent Recruiment</td>\n",
       "      <td>0 to 4 Yrs</td>\n",
       "      <td>Bangalore\\n+14</td>\n",
       "    </tr>\n",
       "    <tr>\n",
       "      <th>6</th>\n",
       "      <td>deuglo infosystem private limited</td>\n",
       "      <td>Apply Now a Data Analyst</td>\n",
       "      <td>1 to 2 Yrs</td>\n",
       "      <td>Bangalore</td>\n",
       "    </tr>\n",
       "    <tr>\n",
       "      <th>7</th>\n",
       "      <td>deuglo infosystem private limited</td>\n",
       "      <td>Apply Now Data Analyst</td>\n",
       "      <td>1 to 2 Yrs</td>\n",
       "      <td>Bangalore</td>\n",
       "    </tr>\n",
       "    <tr>\n",
       "      <th>8</th>\n",
       "      <td>deuglo infosystem private limited</td>\n",
       "      <td>Needed for Data Analyst</td>\n",
       "      <td>1 to 2 Yrs</td>\n",
       "      <td>Bangalore</td>\n",
       "    </tr>\n",
       "    <tr>\n",
       "      <th>9</th>\n",
       "      <td>deuglo infosystem private limited</td>\n",
       "      <td>Urgently need a Data Analyst</td>\n",
       "      <td>1 to 2 Yrs</td>\n",
       "      <td>Bangalore</td>\n",
       "    </tr>\n",
       "  </tbody>\n",
       "</table>\n",
       "</div>"
      ],
      "text/plain": [
       "                             COMPANY_NAME                            job_name  \\\n",
       "0                     futures and careers  Project Coordinator (Data Analyst)   \n",
       "1  boyen haddin consulting and technol...          Data Analyst - Java/Python   \n",
       "2                kavya staffing solutions             Hiring For Data Analyst   \n",
       "3           ara resources private limited                 Senior Data Analyst   \n",
       "4  ashutosh sabhashankar chaturvedi hi...                        Data Analyst   \n",
       "5                       divya interprises      Data Analyst Urgent Recruiment   \n",
       "6       deuglo infosystem private limited            Apply Now a Data Analyst   \n",
       "7       deuglo infosystem private limited              Apply Now Data Analyst   \n",
       "8       deuglo infosystem private limited             Needed for Data Analyst   \n",
       "9       deuglo infosystem private limited        Urgently need a Data Analyst   \n",
       "\n",
       "    Experience        LOCATION  \n",
       "0   2 to 4 Yrs       Bangalore  \n",
       "1   3 to 6 Yrs       Bangalore  \n",
       "2   0 to 4 Yrs  Bangalore\\n+14  \n",
       "3   2 to 5 Yrs       Bangalore  \n",
       "4  7 to 12 Yrs   Bangalore\\n+9  \n",
       "5   0 to 4 Yrs  Bangalore\\n+14  \n",
       "6   1 to 2 Yrs       Bangalore  \n",
       "7   1 to 2 Yrs       Bangalore  \n",
       "8   1 to 2 Yrs       Bangalore  \n",
       "9   1 to 2 Yrs       Bangalore  "
      ]
     },
     "execution_count": 24,
     "metadata": {},
     "output_type": "execute_result"
    }
   ],
   "source": [
    "df1=pd.DataFrame({\"COMPANY_NAME\":company,\"job_name\":job,\"Experience\":experience,\"LOCATION\":location})\n",
    "df1\n"
   ]
  },
  {
   "cell_type": "code",
   "execution_count": 76,
   "id": "4c8211a7",
   "metadata": {},
   "outputs": [],
   "source": [
    "driver.get('https://www.shine.com/')"
   ]
  },
  {
   "cell_type": "code",
   "execution_count": 42,
   "id": "736d8f84",
   "metadata": {},
   "outputs": [],
   "source": [
    "title2=driver.find_element(By.CLASS_NAME,\"form-control  \")\n",
    "title2.send_keys('Data Scientist')"
   ]
  },
  {
   "cell_type": "code",
   "execution_count": 43,
   "id": "e3df5f26",
   "metadata": {},
   "outputs": [],
   "source": [
    "loc2=driver.find_element(By.XPATH,\"/html/body/div[1]/div[4]/div/div[2]/div[2]/div/form/div/div[1]/ul/li[2]/div/input\")\n",
    "loc2.send_keys('Bangalore')"
   ]
  },
  {
   "cell_type": "code",
   "execution_count": null,
   "id": "d27db8b3",
   "metadata": {},
   "outputs": [],
   "source": [
    "search2=driver.find_element(By.CLASS_NAME,\"searchForm_btnWrap_advance__VYBHN\")\n",
    "search2.click()"
   ]
  },
  {
   "cell_type": "code",
   "execution_count": 45,
   "id": "7aa38ce5",
   "metadata": {},
   "outputs": [],
   "source": [
    "job2= []\n",
    "company2= []\n",
    "experience2 = []\n",
    "location2=[]"
   ]
  },
  {
   "cell_type": "code",
   "execution_count": 68,
   "id": "b87b2401",
   "metadata": {},
   "outputs": [],
   "source": [
    "j_name=driver.find_elements(By.XPATH,'//h2[@itemprop=\"name\"]')\n",
    "for i in j_name:\n",
    "    nam=i.text\n",
    "    job2.append(nam)\n",
    "    \n",
    "com=driver.find_elements(By.XPATH,'//div[@class=\"jobCard_jobCard_cName__mYnow\"]')\n",
    "for i in com:\n",
    "    cm=i.text\n",
    "    company2.append(cm)\n",
    "    \n",
    "expp=driver.find_elements(By.XPATH,'//div[@class=\" jobCard_jobCard_lists_item__YxRkV jobCard_jobIcon__3FB1t\"]')\n",
    "for i in expp:\n",
    "    ez=i.text\n",
    "    experience2.append(ez)\n",
    "    \n",
    "lc=driver.find_elements(By.XPATH,'//div[@class=\" jobCard_jobCard_lists_item__YxRkV jobCard_locationIcon__zrWt2\"]')\n",
    "for i in lc:\n",
    "    ey=i.text\n",
    "    location2.append(ey)"
   ]
  },
  {
   "cell_type": "code",
   "execution_count": 71,
   "id": "29c04141",
   "metadata": {},
   "outputs": [],
   "source": [
    "J=job2[0:10]\n",
    "E=experience2[0:10]\n",
    "C=company2[0:10]\n",
    "L=location2[0:10]"
   ]
  },
  {
   "cell_type": "code",
   "execution_count": 72,
   "id": "e3dfb145",
   "metadata": {},
   "outputs": [
    {
     "data": {
      "text/html": [
       "<div>\n",
       "<style scoped>\n",
       "    .dataframe tbody tr th:only-of-type {\n",
       "        vertical-align: middle;\n",
       "    }\n",
       "\n",
       "    .dataframe tbody tr th {\n",
       "        vertical-align: top;\n",
       "    }\n",
       "\n",
       "    .dataframe thead th {\n",
       "        text-align: right;\n",
       "    }\n",
       "</style>\n",
       "<table border=\"1\" class=\"dataframe\">\n",
       "  <thead>\n",
       "    <tr style=\"text-align: right;\">\n",
       "      <th></th>\n",
       "      <th>job_name</th>\n",
       "      <th>Experience</th>\n",
       "      <th>Company</th>\n",
       "      <th>Location</th>\n",
       "    </tr>\n",
       "  </thead>\n",
       "  <tbody>\n",
       "    <tr>\n",
       "      <th>0</th>\n",
       "      <td>Hiring For Data Scientist</td>\n",
       "      <td>0 to 4 Yrs</td>\n",
       "      <td>kavya staffing solutions</td>\n",
       "      <td>Bangalore\\n+17</td>\n",
       "    </tr>\n",
       "    <tr>\n",
       "      <th>1</th>\n",
       "      <td>Hiring For Data Scientist</td>\n",
       "      <td>0 to 4 Yrs</td>\n",
       "      <td>kavya staffing solutions</td>\n",
       "      <td>Bangalore\\n+17</td>\n",
       "    </tr>\n",
       "    <tr>\n",
       "      <th>2</th>\n",
       "      <td>Data Scientist</td>\n",
       "      <td>5 to 10 Yrs</td>\n",
       "      <td>skyleaf consultants</td>\n",
       "      <td>Bangalore</td>\n",
       "    </tr>\n",
       "    <tr>\n",
       "      <th>3</th>\n",
       "      <td>Data Scientist Urgent Recruitment</td>\n",
       "      <td>0 to 4 Yrs</td>\n",
       "      <td>divya interprises</td>\n",
       "      <td>Bangalore\\n+14</td>\n",
       "    </tr>\n",
       "    <tr>\n",
       "      <th>4</th>\n",
       "      <td>Required for Data Scientist</td>\n",
       "      <td>4 to 6 Yrs</td>\n",
       "      <td>deuglo infosystem private limited</td>\n",
       "      <td>Bangalore</td>\n",
       "    </tr>\n",
       "    <tr>\n",
       "      <th>5</th>\n",
       "      <td>Urgently need Data Scientist</td>\n",
       "      <td>4 to 6 Yrs</td>\n",
       "      <td>deuglo infosystem private limited</td>\n",
       "      <td>Bangalore\\n+8</td>\n",
       "    </tr>\n",
       "    <tr>\n",
       "      <th>6</th>\n",
       "      <td>Data scientist Bangalore</td>\n",
       "      <td>6 to 9 Yrs</td>\n",
       "      <td>seven geomax consulting private lim...</td>\n",
       "      <td>Bangalore</td>\n",
       "    </tr>\n",
       "    <tr>\n",
       "      <th>7</th>\n",
       "      <td>Data Scientist</td>\n",
       "      <td>3 to 6 Yrs</td>\n",
       "      <td>employberry consultants hiring for ...</td>\n",
       "      <td>Bangalore</td>\n",
       "    </tr>\n",
       "    <tr>\n",
       "      <th>8</th>\n",
       "      <td>Hiring For Data Scientist</td>\n",
       "      <td>0 to 4 Yrs</td>\n",
       "      <td>niharika enterprises</td>\n",
       "      <td>Bangalore\\n+15</td>\n",
       "    </tr>\n",
       "    <tr>\n",
       "      <th>9</th>\n",
       "      <td>Needed for the post Data Scientist</td>\n",
       "      <td>4 to 6 Yrs</td>\n",
       "      <td>deuglo infosystem private limited</td>\n",
       "      <td>Bangalore\\n+8</td>\n",
       "    </tr>\n",
       "  </tbody>\n",
       "</table>\n",
       "</div>"
      ],
      "text/plain": [
       "                             job_name   Experience  \\\n",
       "0           Hiring For Data Scientist   0 to 4 Yrs   \n",
       "1           Hiring For Data Scientist   0 to 4 Yrs   \n",
       "2                      Data Scientist  5 to 10 Yrs   \n",
       "3   Data Scientist Urgent Recruitment   0 to 4 Yrs   \n",
       "4         Required for Data Scientist   4 to 6 Yrs   \n",
       "5        Urgently need Data Scientist   4 to 6 Yrs   \n",
       "6            Data scientist Bangalore   6 to 9 Yrs   \n",
       "7                      Data Scientist   3 to 6 Yrs   \n",
       "8           Hiring For Data Scientist   0 to 4 Yrs   \n",
       "9  Needed for the post Data Scientist   4 to 6 Yrs   \n",
       "\n",
       "                                  Company        Location  \n",
       "0                kavya staffing solutions  Bangalore\\n+17  \n",
       "1                kavya staffing solutions  Bangalore\\n+17  \n",
       "2                     skyleaf consultants       Bangalore  \n",
       "3                       divya interprises  Bangalore\\n+14  \n",
       "4       deuglo infosystem private limited       Bangalore  \n",
       "5       deuglo infosystem private limited   Bangalore\\n+8  \n",
       "6  seven geomax consulting private lim...       Bangalore  \n",
       "7  employberry consultants hiring for ...       Bangalore  \n",
       "8                    niharika enterprises  Bangalore\\n+15  \n",
       "9       deuglo infosystem private limited   Bangalore\\n+8  "
      ]
     },
     "execution_count": 72,
     "metadata": {},
     "output_type": "execute_result"
    }
   ],
   "source": [
    "df2=pd.DataFrame({'job_name':J,'Experience':E,'Company':C,'Location':L})\n",
    "df2"
   ]
  },
  {
   "cell_type": "code",
   "execution_count": 114,
   "id": "e196971f",
   "metadata": {},
   "outputs": [],
   "source": [
    "title=driver.find_element(By.CLASS_NAME,\"searchBarInput\")\n",
    "title.click()"
   ]
  },
  {
   "cell_type": "code",
   "execution_count": 115,
   "id": "d591feff",
   "metadata": {},
   "outputs": [],
   "source": [
    "job=driver.find_element(By.CLASS_NAME,\"form-control  \")\n",
    "job.send_keys('Data Scientist')"
   ]
  },
  {
   "cell_type": "code",
   "execution_count": 117,
   "id": "56d44a48",
   "metadata": {},
   "outputs": [],
   "source": [
    "sbmt=driver.find_element(By.XPATH,'/html/body/div[1]/div[4]/div/div[2]/div[2]/div/form/div/div[2]/div')\n",
    "sbmt.click()"
   ]
  },
  {
   "cell_type": "code",
   "execution_count": 119,
   "id": "a225741e",
   "metadata": {},
   "outputs": [],
   "source": [
    "Loc_fil=driver.find_element(By.XPATH,'/html/body/div[1]/div[1]/div[4]/div/div[1]/div/div[2]/div/ul/li[1]/button')\n",
    "Loc_fil.click()"
   ]
  },
  {
   "cell_type": "code",
   "execution_count": 120,
   "id": "56f8c278",
   "metadata": {},
   "outputs": [],
   "source": [
    "delhi_fil=driver.find_element(By.XPATH,'/html/body/div[1]/div[1]/div[4]/div/div[1]/div/div[2]/div[2]/div/div/div/div[3]/div/div/div/ul/li[8]/span/label')\n",
    "delhi_fil.click()"
   ]
  },
  {
   "cell_type": "code",
   "execution_count": 121,
   "id": "329ea8cf",
   "metadata": {},
   "outputs": [],
   "source": [
    "submit_fil=driver.find_element(By.XPATH,'//button[@class=\"btn btn-secondary\"]')\n",
    "submit_fil.click()"
   ]
  },
  {
   "cell_type": "code",
   "execution_count": 122,
   "id": "a3e9bf97",
   "metadata": {},
   "outputs": [],
   "source": [
    "sal_fil=driver.find_element(By.XPATH,'/html/body/div[1]/div[1]/div[4]/div/div[1]/div/div[2]/div/ul/li[3]/button')\n",
    "sal_fil.click()"
   ]
  },
  {
   "cell_type": "code",
   "execution_count": 123,
   "id": "6ec18e5f",
   "metadata": {},
   "outputs": [],
   "source": [
    "sal_cri=driver.find_element(By.XPATH,'/html/body/div[1]/div[1]/div[4]/div/div[1]/div/div[2]/div[2]/div/div/div/div[3]/div/div/div/ul/li[3]/span/label')\n",
    "sal_cri.click()"
   ]
  },
  {
   "cell_type": "code",
   "execution_count": 124,
   "id": "cee9a96c",
   "metadata": {},
   "outputs": [],
   "source": [
    "sal_sub=driver.find_element(By.XPATH,'//button[@class=\"btn btn-secondary\"]')\n",
    "sal_sub.click()"
   ]
  },
  {
   "cell_type": "code",
   "execution_count": 125,
   "id": "c7b39760",
   "metadata": {},
   "outputs": [],
   "source": [
    "Name= []\n",
    "Exp = []\n",
    "cOM= []\n",
    "JOBLOC =[]"
   ]
  },
  {
   "cell_type": "code",
   "execution_count": 153,
   "id": "eb810aa2",
   "metadata": {},
   "outputs": [],
   "source": [
    "nameofjob=driver.find_elements(By.XPATH,'//h2[@itemprop=\"name\"]')\n",
    "for i in nameofjob:\n",
    "    n=i.text\n",
    "    Name.append(n)\n",
    "\n",
    "    \n",
    "exp_req=driver.find_elements(By.XPATH,'//div[@class=\" jobCard_jobCard_lists_item__YxRkV jobCard_jobIcon__3FB1t\"]')\n",
    "for i in exp_req:\n",
    "    e=i.text\n",
    "    Exp.append(e)\n",
    "\n",
    "    \n",
    "nameofcom=driver.find_elements(By.XPATH,'//div[@class=\"jobCard_jobCard_cName__mYnow\"]')\n",
    "for i in nameofcom:\n",
    "    c=i.text\n",
    "    cOM.append(c)\n",
    "\n",
    "    \n",
    "locofj=driver.find_elements(By.XPATH,'//div[@class=\" jobCard_jobCard_lists_item__YxRkV jobCard_locationIcon__zrWt2\"]')\n",
    "for i in locofj:\n",
    "    l=i.text\n",
    "    JOBLOC.append(l)\n"
   ]
  },
  {
   "cell_type": "code",
   "execution_count": 154,
   "id": "4c54769a",
   "metadata": {},
   "outputs": [],
   "source": [
    "top_10nam=Name[:10]\n",
    "top_10com=cOM[:10]\n",
    "top_10job=JOBLOC[:10]\n",
    "top_10exp=Exp[:10]\n"
   ]
  },
  {
   "cell_type": "code",
   "execution_count": 155,
   "id": "be8428c0",
   "metadata": {},
   "outputs": [
    {
     "data": {
      "text/html": [
       "<div>\n",
       "<style scoped>\n",
       "    .dataframe tbody tr th:only-of-type {\n",
       "        vertical-align: middle;\n",
       "    }\n",
       "\n",
       "    .dataframe tbody tr th {\n",
       "        vertical-align: top;\n",
       "    }\n",
       "\n",
       "    .dataframe thead th {\n",
       "        text-align: right;\n",
       "    }\n",
       "</style>\n",
       "<table border=\"1\" class=\"dataframe\">\n",
       "  <thead>\n",
       "    <tr style=\"text-align: right;\">\n",
       "      <th></th>\n",
       "      <th>name</th>\n",
       "      <th>comP</th>\n",
       "      <th>exP</th>\n",
       "      <th>lOC</th>\n",
       "    </tr>\n",
       "  </thead>\n",
       "  <tbody>\n",
       "    <tr>\n",
       "      <th>0</th>\n",
       "      <td>Data Scientist</td>\n",
       "      <td>[kavya staffing solutions, kavya staffing solu...</td>\n",
       "      <td>0 to 3 Yrs</td>\n",
       "      <td>Delhi\\n+6</td>\n",
       "    </tr>\n",
       "    <tr>\n",
       "      <th>1</th>\n",
       "      <td>Data Scientist</td>\n",
       "      <td>[kavya staffing solutions, kavya staffing solu...</td>\n",
       "      <td>3 to 6 Yrs</td>\n",
       "      <td>Delhi\\n+6</td>\n",
       "    </tr>\n",
       "    <tr>\n",
       "      <th>2</th>\n",
       "      <td>Data Scientist</td>\n",
       "      <td>[kavya staffing solutions, kavya staffing solu...</td>\n",
       "      <td>0 to 1 Yr</td>\n",
       "      <td>Delhi\\n+4</td>\n",
       "    </tr>\n",
       "    <tr>\n",
       "      <th>3</th>\n",
       "      <td>Data Scientist</td>\n",
       "      <td>[kavya staffing solutions, kavya staffing solu...</td>\n",
       "      <td>3 to 5 Yrs</td>\n",
       "      <td>Delhi</td>\n",
       "    </tr>\n",
       "    <tr>\n",
       "      <th>4</th>\n",
       "      <td>for _GCP Data Engineer/Lead/Architect- Delhi</td>\n",
       "      <td>[kavya staffing solutions, kavya staffing solu...</td>\n",
       "      <td>2 to 3 Yrs</td>\n",
       "      <td>Delhi</td>\n",
       "    </tr>\n",
       "    <tr>\n",
       "      <th>5</th>\n",
       "      <td>for _GCP Data Engineer/Lead/Architect- Delhi</td>\n",
       "      <td>[kavya staffing solutions, kavya staffing solu...</td>\n",
       "      <td>2 to 3 Yrs</td>\n",
       "      <td>Delhi</td>\n",
       "    </tr>\n",
       "    <tr>\n",
       "      <th>6</th>\n",
       "      <td>Req. For Data Scientist -Reputed Data Analytic...</td>\n",
       "      <td>[kavya staffing solutions, kavya staffing solu...</td>\n",
       "      <td>2 to 6 Yrs</td>\n",
       "      <td>Delhi</td>\n",
       "    </tr>\n",
       "    <tr>\n",
       "      <th>7</th>\n",
       "      <td>For Senior Data Scientist-Reputed IT Industry</td>\n",
       "      <td>[kavya staffing solutions, kavya staffing solu...</td>\n",
       "      <td>4 to 8 Yrs</td>\n",
       "      <td>Delhi</td>\n",
       "    </tr>\n",
       "    <tr>\n",
       "      <th>8</th>\n",
       "      <td>Req. now Data Scientist</td>\n",
       "      <td>[kavya staffing solutions, kavya staffing solu...</td>\n",
       "      <td>3 to 5 Yrs</td>\n",
       "      <td>Delhi</td>\n",
       "    </tr>\n",
       "    <tr>\n",
       "      <th>9</th>\n",
       "      <td>Data Scientist</td>\n",
       "      <td>[kavya staffing solutions, kavya staffing solu...</td>\n",
       "      <td>3 to 6 Yrs</td>\n",
       "      <td>Delhi</td>\n",
       "    </tr>\n",
       "  </tbody>\n",
       "</table>\n",
       "</div>"
      ],
      "text/plain": [
       "                                                name  \\\n",
       "0                                     Data Scientist   \n",
       "1                                     Data Scientist   \n",
       "2                                     Data Scientist   \n",
       "3                                     Data Scientist   \n",
       "4       for _GCP Data Engineer/Lead/Architect- Delhi   \n",
       "5       for _GCP Data Engineer/Lead/Architect- Delhi   \n",
       "6  Req. For Data Scientist -Reputed Data Analytic...   \n",
       "7      For Senior Data Scientist-Reputed IT Industry   \n",
       "8                            Req. now Data Scientist   \n",
       "9                                     Data Scientist   \n",
       "\n",
       "                                                comP         exP        lOC  \n",
       "0  [kavya staffing solutions, kavya staffing solu...  0 to 3 Yrs  Delhi\\n+6  \n",
       "1  [kavya staffing solutions, kavya staffing solu...  3 to 6 Yrs  Delhi\\n+6  \n",
       "2  [kavya staffing solutions, kavya staffing solu...   0 to 1 Yr  Delhi\\n+4  \n",
       "3  [kavya staffing solutions, kavya staffing solu...  3 to 5 Yrs      Delhi  \n",
       "4  [kavya staffing solutions, kavya staffing solu...  2 to 3 Yrs      Delhi  \n",
       "5  [kavya staffing solutions, kavya staffing solu...  2 to 3 Yrs      Delhi  \n",
       "6  [kavya staffing solutions, kavya staffing solu...  2 to 6 Yrs      Delhi  \n",
       "7  [kavya staffing solutions, kavya staffing solu...  4 to 8 Yrs      Delhi  \n",
       "8  [kavya staffing solutions, kavya staffing solu...  3 to 5 Yrs      Delhi  \n",
       "9  [kavya staffing solutions, kavya staffing solu...  3 to 6 Yrs      Delhi  "
      ]
     },
     "execution_count": 155,
     "metadata": {},
     "output_type": "execute_result"
    }
   ],
   "source": [
    "df3=pd.DataFrame({'name':top_10nam,'comP':top_10com,'exP':top_10exp,'lOC':top_10job})\n",
    "df3"
   ]
  },
  {
   "cell_type": "code",
   "execution_count": null,
   "id": "6bb1b5c9",
   "metadata": {},
   "outputs": [],
   "source": [
    "cOM[:10]"
   ]
  },
  {
   "cell_type": "code",
   "execution_count": 189,
   "id": "28dde174",
   "metadata": {},
   "outputs": [],
   "source": [
    "#Q4\n",
    "\n",
    "\n",
    "driver.get('https://www.flipkart.com/')"
   ]
  },
  {
   "cell_type": "code",
   "execution_count": 191,
   "id": "6b5f1838",
   "metadata": {},
   "outputs": [],
   "source": [
    "close_b=driver.find_element(By.XPATH,'//button[@class=\"_2KpZ6l _2doB4z\"]')\n",
    "close_b.click()"
   ]
  },
  {
   "cell_type": "code",
   "execution_count": 193,
   "id": "4e0d272d",
   "metadata": {},
   "outputs": [],
   "source": [
    "srch=driver.find_element(By.CLASS_NAME,\"_3OO5Xc\")\n",
    "srch.click()"
   ]
  },
  {
   "cell_type": "code",
   "execution_count": 194,
   "id": "90f9e294",
   "metadata": {},
   "outputs": [],
   "source": [
    "glass=driver.find_element(By.XPATH,'//input[@type=\"text\"]')\n",
    "glass.send_keys('sunglasses')"
   ]
  },
  {
   "cell_type": "code",
   "execution_count": 197,
   "id": "db2d1158",
   "metadata": {},
   "outputs": [],
   "source": [
    "search_btn=driver.find_element(By.XPATH,'//button[@class=\"L0Z3Pu\"]')\n",
    "search_btn.click()"
   ]
  },
  {
   "cell_type": "code",
   "execution_count": 198,
   "id": "e1e7b6d6",
   "metadata": {},
   "outputs": [],
   "source": [
    "fltr=driver.find_element(By.XPATH,'/html/body/div[1]/div/div[3]/div[1]/div[1]/div[2]/div[1]/div/section[7]/div/div')\n",
    "fltr.click()"
   ]
  },
  {
   "cell_type": "code",
   "execution_count": 201,
   "id": "2453af30",
   "metadata": {},
   "outputs": [],
   "source": [
    "mediun=driver.find_element(By.XPATH,'/html/body/div[1]/div/div[3]/div[1]/div[1]/div[2]/div[1]/div/section[7]/div[2]/div/div[2]/div/label/div[2]')\n",
    "mediun.click()"
   ]
  },
  {
   "cell_type": "code",
   "execution_count": 211,
   "id": "5c3ae197",
   "metadata": {},
   "outputs": [],
   "source": [
    "brandname = []\n",
    "discription = []\n",
    "price = []"
   ]
  },
  {
   "cell_type": "code",
   "execution_count": 212,
   "id": "d33c83b2",
   "metadata": {},
   "outputs": [],
   "source": [
    "bww=driver.find_elements(By.XPATH,'//div[@class=\"_2WkVRV\"]')\n",
    "for i in bww:\n",
    "    brr=i.text\n",
    "    brandname.append(brr)\n"
   ]
  },
  {
   "cell_type": "code",
   "execution_count": 205,
   "id": "88b93b78",
   "metadata": {},
   "outputs": [],
   "source": [
    "disc=driver.find_elements(By.XPATH,'//a[@class=\"IRpwTa\"]')\n",
    "for i in disc:\n",
    "    dd=i.text\n",
    "    discription.append(disc)\n",
    "\n",
    "prz=driver.find_elements(By.XPATH,'//div[@class=\"_30jeq3\"]')\n",
    "for i in prz:\n",
    "    pz=i.text.replace('₹','')\n",
    "    price.append(pz)"
   ]
  },
  {
   "cell_type": "code",
   "execution_count": 206,
   "id": "194489db",
   "metadata": {},
   "outputs": [],
   "source": [
    "next_btn=driver.find_element(By.XPATH,'//a[@class=\"_1LKTO3\"]')\n",
    "next_btn.click()"
   ]
  },
  {
   "cell_type": "code",
   "execution_count": 220,
   "id": "608eaacd",
   "metadata": {},
   "outputs": [],
   "source": [
    "dcp=driver.find_elements(By.XPATH,'//a[@class=\"IRpwTa\"]')\n",
    "for i in dcp:\n",
    "    dcpp=i.text\n",
    "    discription.append(dcpp)\n",
    "        \n",
    "pze=driver.find_elements(By.XPATH,'//div[@class=\"_30jeq3\"]')\n",
    "for i in pze:\n",
    "    pzz=i.text.replace(\"₹\",\"\")\n",
    "    price.append(pzz)"
   ]
  },
  {
   "cell_type": "code",
   "execution_count": 221,
   "id": "beba5cd1",
   "metadata": {},
   "outputs": [],
   "source": [
    "next_2=driver.find_element(By.XPATH,'/html/body/div[1]/div/div[3]/div/div[2]/div[12]/div/div/nav/a[12]')\n",
    "next_2.click() "
   ]
  },
  {
   "cell_type": "code",
   "execution_count": 222,
   "id": "a3f1e98d",
   "metadata": {},
   "outputs": [],
   "source": [
    "bwww=driver.find_elements(By.XPATH,'//div[@class=\"_2WkVRV\"]')\n",
    "for i in bwww:\n",
    "    brrr=i.text\n",
    "    brandname.append(brrr)\n",
    "dccp=driver.find_elements(By.XPATH,'//a[@class=\"IRpwTa\"]')\n",
    "for i in dccp:\n",
    "    dccpp=i.text\n",
    "    discription.append(dccpp)\n",
    "        \n",
    "pzee=driver.find_elements(By.XPATH,'//div[@class=\"_30jeq3\"]')\n",
    "for i in pzee:\n",
    "    pzzz=i.text.replace(\"₹\",\"\")\n",
    "    price.append(pzzz)\n"
   ]
  },
  {
   "cell_type": "code",
   "execution_count": 226,
   "id": "f87fb8c8",
   "metadata": {},
   "outputs": [],
   "source": [
    "brandname4=brandname[:100]\n",
    "discription4=discription[:100]\n",
    "price4=price[:100]"
   ]
  },
  {
   "cell_type": "code",
   "execution_count": 227,
   "id": "bd8292a7",
   "metadata": {},
   "outputs": [
    {
     "data": {
      "text/html": [
       "<div>\n",
       "<style scoped>\n",
       "    .dataframe tbody tr th:only-of-type {\n",
       "        vertical-align: middle;\n",
       "    }\n",
       "\n",
       "    .dataframe tbody tr th {\n",
       "        vertical-align: top;\n",
       "    }\n",
       "\n",
       "    .dataframe thead th {\n",
       "        text-align: right;\n",
       "    }\n",
       "</style>\n",
       "<table border=\"1\" class=\"dataframe\">\n",
       "  <thead>\n",
       "    <tr style=\"text-align: right;\">\n",
       "      <th></th>\n",
       "      <th>BRANDNAME</th>\n",
       "      <th>DISCRIPTION</th>\n",
       "      <th>PIRCE</th>\n",
       "    </tr>\n",
       "  </thead>\n",
       "  <tbody>\n",
       "    <tr>\n",
       "      <th>0</th>\n",
       "      <td>ROYAL SON</td>\n",
       "      <td>UV Protection Rectangular, Retro Square Sungla...</td>\n",
       "      <td>497</td>\n",
       "    </tr>\n",
       "    <tr>\n",
       "      <th>1</th>\n",
       "      <td>VINCENT CHASE</td>\n",
       "      <td>Polarized, UV Protection Round Sunglasses (50)</td>\n",
       "      <td>883</td>\n",
       "    </tr>\n",
       "    <tr>\n",
       "      <th>2</th>\n",
       "      <td>VINCENT CHASE</td>\n",
       "      <td>Polarized, UV Protection Rectangular Sunglasse...</td>\n",
       "      <td>899</td>\n",
       "    </tr>\n",
       "    <tr>\n",
       "      <th>3</th>\n",
       "      <td>VINCENT CHASE</td>\n",
       "      <td>Polarized, UV Protection Round Sunglasses (51)</td>\n",
       "      <td>949</td>\n",
       "    </tr>\n",
       "    <tr>\n",
       "      <th>4</th>\n",
       "      <td>john jacobs</td>\n",
       "      <td>UV Protection Round Sunglasses (51)</td>\n",
       "      <td>1,999</td>\n",
       "    </tr>\n",
       "    <tr>\n",
       "      <th>...</th>\n",
       "      <td>...</td>\n",
       "      <td>...</td>\n",
       "      <td>...</td>\n",
       "    </tr>\n",
       "    <tr>\n",
       "      <th>95</th>\n",
       "      <td>OAKLEY</td>\n",
       "      <td>UV Protection Aviator Sunglasses (57)</td>\n",
       "      <td>11,390</td>\n",
       "    </tr>\n",
       "    <tr>\n",
       "      <th>96</th>\n",
       "      <td>john jacobs</td>\n",
       "      <td>Riding Glasses, Gradient Aviator Sunglasses (57)</td>\n",
       "      <td>2,249</td>\n",
       "    </tr>\n",
       "    <tr>\n",
       "      <th>97</th>\n",
       "      <td>Silver Kartz</td>\n",
       "      <td>Polarized, UV Protection Round Sunglasses (50)</td>\n",
       "      <td>280</td>\n",
       "    </tr>\n",
       "    <tr>\n",
       "      <th>98</th>\n",
       "      <td>VINCENT CHASE</td>\n",
       "      <td>UV Protection Retro Square Sunglasses (53)</td>\n",
       "      <td>1,199</td>\n",
       "    </tr>\n",
       "    <tr>\n",
       "      <th>99</th>\n",
       "      <td>GANSTA</td>\n",
       "      <td>UV Protection, Riding Glasses Retro Square Sun...</td>\n",
       "      <td>211</td>\n",
       "    </tr>\n",
       "  </tbody>\n",
       "</table>\n",
       "<p>100 rows × 3 columns</p>\n",
       "</div>"
      ],
      "text/plain": [
       "        BRANDNAME                                        DISCRIPTION   PIRCE\n",
       "0       ROYAL SON  UV Protection Rectangular, Retro Square Sungla...     497\n",
       "1   VINCENT CHASE     Polarized, UV Protection Round Sunglasses (50)     883\n",
       "2   VINCENT CHASE  Polarized, UV Protection Rectangular Sunglasse...     899\n",
       "3   VINCENT CHASE     Polarized, UV Protection Round Sunglasses (51)     949\n",
       "4     john jacobs                UV Protection Round Sunglasses (51)   1,999\n",
       "..            ...                                                ...     ...\n",
       "95         OAKLEY              UV Protection Aviator Sunglasses (57)  11,390\n",
       "96    john jacobs   Riding Glasses, Gradient Aviator Sunglasses (57)   2,249\n",
       "97   Silver Kartz     Polarized, UV Protection Round Sunglasses (50)     280\n",
       "98  VINCENT CHASE         UV Protection Retro Square Sunglasses (53)   1,199\n",
       "99         GANSTA  UV Protection, Riding Glasses Retro Square Sun...     211\n",
       "\n",
       "[100 rows x 3 columns]"
      ]
     },
     "execution_count": 227,
     "metadata": {},
     "output_type": "execute_result"
    }
   ],
   "source": [
    "df4=pd.DataFrame({'BRANDNAME':brandname4,'DISCRIPTION':discription4,'PIRCE':price4})\n",
    "df4"
   ]
  },
  {
   "cell_type": "code",
   "execution_count": 228,
   "id": "87b33e6a",
   "metadata": {},
   "outputs": [],
   "source": [
    "#Q5\n",
    "\n",
    "driver.get('https://www.flipkart.com/apple-iphone-11-black-64-gb/product-reviews/itm4e5041ba101fd?pid=MOBFWQ6BXGJCEYNY&lid=LSTMOBFWQ6BXGJCEYNYZXSHRJ&market')"
   ]
  },
  {
   "cell_type": "code",
   "execution_count": 270,
   "id": "c9e8cfcd",
   "metadata": {},
   "outputs": [],
   "source": [
    "Ratings = []\n",
    "Summary = []\n",
    "REVIEW = []"
   ]
  },
  {
   "cell_type": "code",
   "execution_count": 271,
   "id": "61c60799",
   "metadata": {},
   "outputs": [],
   "source": [
    "start= 0\n",
    "end = 10\n",
    "\n",
    "for pages in range(start,end):\n",
    "    rating=driver.find_elements(By.XPATH,'//div[@class=\"_3LWZlK _1BLPMq\"]')\n",
    "    for i in rating:\n",
    "        Ratings.append(i.text)\n",
    "    summary=driver.find_elements(By.XPATH,'//p[@class=\"_2-N8zT\"]')\n",
    "    for i in summary:\n",
    "        Summary.append(i.text)\n",
    "    review=driver.find_elements(By.XPATH,'//div[@class=\"t-ZTKy\"]')\n",
    "    for i in review:\n",
    "        ABC=i.text\n",
    "        REVIEW.append(ABC)\n",
    "    nxt_btn=driver.find_element(By.CLASS_NAME,\"_1LKTO3\")\n",
    "    nxt_btn.click()\n",
    "    time.sleep(11)"
   ]
  },
  {
   "cell_type": "code",
   "execution_count": 272,
   "id": "342062fc",
   "metadata": {},
   "outputs": [
    {
     "name": "stdout",
     "output_type": "stream",
     "text": [
      "['Photos super', 'Camera is awesome\\nBest battery backup\\nA performer 👌🏻\\nIt will be a real value for money if they provide charger and earphone inbox!', 'Very very good', 'This is amazing at all', 'V Good all', 'Feeling awesome after getting the delivery of my phone. Dual speakers makes the sound quality very loud. Amazing!!', 'Good Camera', 'Perfect Product!!', 'Super🔥 and good performance 👌❤️', 'Purple is best', 'It’s really awesome', 'Camera is just wow 👌👌', 'Go for iPhone 11 , if confused between iPhone 11 or iPhone 12 mini.Battery Life is enhanced , it worked for complete 2 days without charging it. Explored new features of taking screenshot by clicking on apple logo by Haptic Touch , Portrait mode with stage effect enhanced & slow motion selfie.', 'Value for money 😍', 'Excellent Phone.', 'very good camera quality', 'It’s very good battery life and display and video quality and ther performance of iPhone.....🔥🔥🌈', 'NYC', 'Damn this phone is a blast . Upgraded from android to ios and is a duperb experience. Battery backup is top notch and display also pretty good', 'iPhone 11 is a good phone. Not a very big difference between 12 except for the OLED screen and a very minor camera improvement which is you cant make a difference. If you are planning for a iPhone and you have budget you definitely can go for this without second thoughts.\\nNow some people are complaining and giving review 0 or so because there is no charger and headphones, but thats been already mentioned so I assume they are illiterate. Its not that Flipkart is removing them duh. Anyways bee...\\nREAD MORE', 'Photos super', 'Camera is awesome\\nBest battery backup\\nA performer 👌🏻\\nIt will be a real value for money if they provide charger and earphone inbox!', 'Very very good', 'This is amazing at all', 'V Good all', 'Feeling awesome after getting the delivery of my phone. Dual speakers makes the sound quality very loud. Amazing!!', 'Good Camera', 'Perfect Product!!', 'Super🔥 and good performance 👌❤️', 'Purple is best', 'It’s really awesome', 'Camera is just wow 👌👌', 'Go for iPhone 11 , if confused between iPhone 11 or iPhone 12 mini.Battery Life is enhanced , it worked for complete 2 days without charging it. Explored new features of taking screenshot by clicking on apple logo by Haptic Touch , Portrait mode with stage effect enhanced & slow motion selfie.', 'Value for money 😍', 'Excellent Phone.', 'very good camera quality', 'It’s very good battery life and display and video quality and ther performance of iPhone.....🔥🔥🌈', 'NYC', 'Damn this phone is a blast . Upgraded from android to ios and is a duperb experience. Battery backup is top notch and display also pretty good', 'iPhone 11 is a good phone. Not a very big difference between 12 except for the OLED screen and a very minor camera improvement which is you cant make a difference. If you are planning for a iPhone and you have budget you definitely can go for this without second thoughts.\\nNow some people are complaining and giving review 0 or so because there is no charger and headphones, but thats been already mentioned so I assume they are illiterate. Its not that Flipkart is removing them duh. Anyways bee...\\nREAD MORE', 'Photos super', 'Camera is awesome\\nBest battery backup\\nA performer 👌🏻\\nIt will be a real value for money if they provide charger and earphone inbox!', 'Very very good', 'This is amazing at all', 'V Good all', 'Feeling awesome after getting the delivery of my phone. Dual speakers makes the sound quality very loud. Amazing!!', 'Good Camera', 'Perfect Product!!', 'Super🔥 and good performance 👌❤️', 'Purple is best', 'It’s really awesome', 'Camera is just wow 👌👌', 'Go for iPhone 11 , if confused between iPhone 11 or iPhone 12 mini.Battery Life is enhanced , it worked for complete 2 days without charging it. Explored new features of taking screenshot by clicking on apple logo by Haptic Touch , Portrait mode with stage effect enhanced & slow motion selfie.', 'Value for money 😍', 'Excellent Phone.', 'very good camera quality', 'It’s very good battery life and display and video quality and ther performance of iPhone.....🔥🔥🌈', 'NYC', 'Damn this phone is a blast . Upgraded from android to ios and is a duperb experience. Battery backup is top notch and display also pretty good', 'iPhone 11 is a good phone. Not a very big difference between 12 except for the OLED screen and a very minor camera improvement which is you cant make a difference. If you are planning for a iPhone and you have budget you definitely can go for this without second thoughts.\\nNow some people are complaining and giving review 0 or so because there is no charger and headphones, but thats been already mentioned so I assume they are illiterate. Its not that Flipkart is removing them duh. Anyways bee...\\nREAD MORE', 'Value for money 😍', 'Photos super', 'Very very good', 'Camera is awesome\\nBest battery backup\\nA performer 👌🏻\\nIt will be a real value for money if they provide charger and earphone inbox!', 'This is amazing at all', 'Perfect Product!!', 'Feeling awesome after getting the delivery of my phone. Dual speakers makes the sound quality very loud. Amazing!!', 'V Good all', 'Good Camera', 'Super🔥 and good performance 👌❤️', 'It’s really awesome', 'Camera is just wow 👌👌', 'Go for iPhone 11 , if confused between iPhone 11 or iPhone 12 mini.Battery Life is enhanced , it worked for complete 2 days without charging it. Explored new features of taking screenshot by clicking on apple logo by Haptic Touch , Portrait mode with stage effect enhanced & slow motion selfie.', 'Value for money 😍', 'Excellent Phone.', 'very good camera quality', 'It’s very good battery life and display and video quality and ther performance of iPhone.....🔥🔥🌈', 'NYC', 'Damn this phone is a blast . Upgraded from android to ios and is a duperb experience. Battery backup is top notch and display also pretty good', 'iPhone 11 is a good phone. Not a very big difference between 12 except for the OLED screen and a very minor camera improvement which is you cant make a difference. If you are planning for a iPhone and you have budget you definitely can go for this without second thoughts.\\nNow some people are complaining and giving review 0 or so because there is no charger and headphones, but thats been already mentioned so I assume they are illiterate. Its not that Flipkart is removing them duh. Anyways bee...\\nREAD MORE', 'Photos super', 'Camera is awesome\\nBest battery backup\\nA performer 👌🏻\\nIt will be a real value for money if they provide charger and earphone inbox!', 'Very very good', 'This is amazing at all', 'V Good all', 'Feeling awesome after getting the delivery of my phone. Dual speakers makes the sound quality very loud. Amazing!!', 'Good Camera', 'Perfect Product!!', 'Super🔥 and good performance 👌❤️', 'Purple is best', 'It’s really awesome', 'Camera is just wow 👌👌', 'Go for iPhone 11 , if confused between iPhone 11 or iPhone 12 mini.Battery Life is enhanced , it worked for complete 2 days without charging it. Explored new features of taking screenshot by clicking on apple logo by Haptic Touch , Portrait mode with stage effect enhanced & slow motion selfie.', 'Value for money 😍', 'Excellent Phone.', 'very good camera quality', 'It’s very good battery life and display and video quality and ther performance of iPhone.....🔥🔥🌈', 'NYC', 'Damn this phone is a blast . Upgraded from android to ios and is a duperb experience. Battery backup is top notch and display also pretty good', 'iPhone 11 is a good phone. Not a very big difference between 12 except for the OLED screen and a very minor camera improvement which is you cant make a difference. If you are planning for a iPhone and you have budget you definitely can go for this without second thoughts.\\nNow some people are complaining and giving review 0 or so because there is no charger and headphones, but thats been already mentioned so I assume they are illiterate. Its not that Flipkart is removing them duh. Anyways bee...\\nREAD MORE']\n"
     ]
    }
   ],
   "source": [
    "print(REVIEW)"
   ]
  },
  {
   "cell_type": "code",
   "execution_count": 273,
   "id": "9680b868",
   "metadata": {},
   "outputs": [],
   "source": [
    "NRatings= Ratings[:100]\n",
    "NSummary= Summary[:100]\n",
    "NReview= REVIEW[:100]"
   ]
  },
  {
   "cell_type": "code",
   "execution_count": 274,
   "id": "f46291f8",
   "metadata": {},
   "outputs": [
    {
     "data": {
      "text/html": [
       "<div>\n",
       "<style scoped>\n",
       "    .dataframe tbody tr th:only-of-type {\n",
       "        vertical-align: middle;\n",
       "    }\n",
       "\n",
       "    .dataframe tbody tr th {\n",
       "        vertical-align: top;\n",
       "    }\n",
       "\n",
       "    .dataframe thead th {\n",
       "        text-align: right;\n",
       "    }\n",
       "</style>\n",
       "<table border=\"1\" class=\"dataframe\">\n",
       "  <thead>\n",
       "    <tr style=\"text-align: right;\">\n",
       "      <th></th>\n",
       "      <th>RATINGS</th>\n",
       "      <th>SUMMARY</th>\n",
       "      <th>REVIEWS</th>\n",
       "    </tr>\n",
       "  </thead>\n",
       "  <tbody>\n",
       "    <tr>\n",
       "      <th>0</th>\n",
       "      <td>5</td>\n",
       "      <td>Classy product</td>\n",
       "      <td>Photos super</td>\n",
       "    </tr>\n",
       "    <tr>\n",
       "      <th>1</th>\n",
       "      <td>5</td>\n",
       "      <td>Classy product</td>\n",
       "      <td>Camera is awesome\\nBest battery backup\\nA perf...</td>\n",
       "    </tr>\n",
       "    <tr>\n",
       "      <th>2</th>\n",
       "      <td>5</td>\n",
       "      <td>Terrific</td>\n",
       "      <td>Very very good</td>\n",
       "    </tr>\n",
       "    <tr>\n",
       "      <th>3</th>\n",
       "      <td>5</td>\n",
       "      <td>Wonderful</td>\n",
       "      <td>This is amazing at all</td>\n",
       "    </tr>\n",
       "    <tr>\n",
       "      <th>4</th>\n",
       "      <td>5</td>\n",
       "      <td>Perfect product!</td>\n",
       "      <td>V Good all</td>\n",
       "    </tr>\n",
       "    <tr>\n",
       "      <th>...</th>\n",
       "      <td>...</td>\n",
       "      <td>...</td>\n",
       "      <td>...</td>\n",
       "    </tr>\n",
       "    <tr>\n",
       "      <th>95</th>\n",
       "      <td>5</td>\n",
       "      <td>Brilliant</td>\n",
       "      <td>very good camera quality</td>\n",
       "    </tr>\n",
       "    <tr>\n",
       "      <th>96</th>\n",
       "      <td>5</td>\n",
       "      <td>Fabulous!</td>\n",
       "      <td>It’s very good battery life and display and vi...</td>\n",
       "    </tr>\n",
       "    <tr>\n",
       "      <th>97</th>\n",
       "      <td>5</td>\n",
       "      <td>Excellent</td>\n",
       "      <td>NYC</td>\n",
       "    </tr>\n",
       "    <tr>\n",
       "      <th>98</th>\n",
       "      <td>5</td>\n",
       "      <td>Best in the market!</td>\n",
       "      <td>Damn this phone is a blast . Upgraded from and...</td>\n",
       "    </tr>\n",
       "    <tr>\n",
       "      <th>99</th>\n",
       "      <td>5</td>\n",
       "      <td>Awesome</td>\n",
       "      <td>iPhone 11 is a good phone. Not a very big diff...</td>\n",
       "    </tr>\n",
       "  </tbody>\n",
       "</table>\n",
       "<p>100 rows × 3 columns</p>\n",
       "</div>"
      ],
      "text/plain": [
       "   RATINGS              SUMMARY  \\\n",
       "0        5       Classy product   \n",
       "1        5       Classy product   \n",
       "2        5             Terrific   \n",
       "3        5            Wonderful   \n",
       "4        5     Perfect product!   \n",
       "..     ...                  ...   \n",
       "95       5            Brilliant   \n",
       "96       5            Fabulous!   \n",
       "97       5            Excellent   \n",
       "98       5  Best in the market!   \n",
       "99       5              Awesome   \n",
       "\n",
       "                                              REVIEWS  \n",
       "0                                        Photos super  \n",
       "1   Camera is awesome\\nBest battery backup\\nA perf...  \n",
       "2                                      Very very good  \n",
       "3                              This is amazing at all  \n",
       "4                                          V Good all  \n",
       "..                                                ...  \n",
       "95                           very good camera quality  \n",
       "96  It’s very good battery life and display and vi...  \n",
       "97                                                NYC  \n",
       "98  Damn this phone is a blast . Upgraded from and...  \n",
       "99  iPhone 11 is a good phone. Not a very big diff...  \n",
       "\n",
       "[100 rows x 3 columns]"
      ]
     },
     "execution_count": 274,
     "metadata": {},
     "output_type": "execute_result"
    }
   ],
   "source": [
    "df5=pd.DataFrame({'RATINGS':NRatings,'SUMMARY':NSummary,'REVIEWS':NReview})\n",
    "df5"
   ]
  },
  {
   "cell_type": "code",
   "execution_count": 3,
   "id": "7964b740",
   "metadata": {},
   "outputs": [],
   "source": [
    "#Q6\n",
    "\n",
    "driver.get('https://www.flipkart.com/')"
   ]
  },
  {
   "cell_type": "code",
   "execution_count": 6,
   "id": "94c42670",
   "metadata": {},
   "outputs": [],
   "source": [
    "srch2=driver.find_element(By.CLASS_NAME,\"_3OO5Xc\")\n",
    "srch2.click()"
   ]
  },
  {
   "cell_type": "code",
   "execution_count": 7,
   "id": "3ac1b892",
   "metadata": {},
   "outputs": [],
   "source": [
    "snekrs=driver.find_element(By.XPATH,'//input[@type=\"text\"]')\n",
    "snekrs.send_keys('sneakers')"
   ]
  },
  {
   "cell_type": "code",
   "execution_count": 8,
   "id": "c698f4f1",
   "metadata": {},
   "outputs": [],
   "source": [
    "search_btn2=driver.find_element(By.XPATH,'//button[@class=\"L0Z3Pu\"]')\n",
    "search_btn2.click()"
   ]
  },
  {
   "cell_type": "code",
   "execution_count": 9,
   "id": "f922ef39",
   "metadata": {},
   "outputs": [],
   "source": [
    "NAMEOFBRND = []\n",
    "DESCOFPROD = []\n",
    "PRIC = []"
   ]
  },
  {
   "cell_type": "code",
   "execution_count": 10,
   "id": "f648ead9",
   "metadata": {},
   "outputs": [],
   "source": [
    "start= 0\n",
    "end = 3\n",
    "\n",
    "for pages in range(start,end):\n",
    "    brnd=driver.find_elements(By.XPATH,'//div[@class=\"_2WkVRV\"]')\n",
    "    for i in brnd:\n",
    "        NAMEOFBRND.append(i.text)\n",
    "    prddec=driver.find_elements(By.XPATH,'//a[@class=\"IRpwTa\"]')\n",
    "    for i in prddec:\n",
    "        DESCOFPROD.append(i.text)\n",
    "    prod=driver.find_elements(By.XPATH,'//div[@class=\"_30jeq3\"]')\n",
    "    for i in prod:\n",
    "        ppp=i.text.replace('₹','')\n",
    "        PRIC.append(ppp)\n",
    "        \n",
    "        \n",
    "    nxt_btn2=driver.find_element(By.CLASS_NAME,\"_1LKTO3\")\n",
    "    nxt_btn2.click()\n",
    "    time.sleep(4)"
   ]
  },
  {
   "cell_type": "code",
   "execution_count": 11,
   "id": "4641fd58",
   "metadata": {},
   "outputs": [],
   "source": [
    "NAMEOFBRND6 =NAMEOFBRND[0:100]\n",
    "DESCOFPROD6 =DESCOFPROD[0:100]\n",
    "PRODPRIC6 =PRIC[0:100]"
   ]
  },
  {
   "cell_type": "code",
   "execution_count": 12,
   "id": "aa9daf99",
   "metadata": {},
   "outputs": [
    {
     "name": "stdout",
     "output_type": "stream",
     "text": [
      "100\n",
      "100\n",
      "100\n"
     ]
    }
   ],
   "source": [
    "print(len(NAMEOFBRND6))\n",
    "print(len(DESCOFPROD6))\n",
    "print(len(PRODPRIC6))"
   ]
  },
  {
   "cell_type": "code",
   "execution_count": 13,
   "id": "1d166a39",
   "metadata": {},
   "outputs": [
    {
     "data": {
      "text/html": [
       "<div>\n",
       "<style scoped>\n",
       "    .dataframe tbody tr th:only-of-type {\n",
       "        vertical-align: middle;\n",
       "    }\n",
       "\n",
       "    .dataframe tbody tr th {\n",
       "        vertical-align: top;\n",
       "    }\n",
       "\n",
       "    .dataframe thead th {\n",
       "        text-align: right;\n",
       "    }\n",
       "</style>\n",
       "<table border=\"1\" class=\"dataframe\">\n",
       "  <thead>\n",
       "    <tr style=\"text-align: right;\">\n",
       "      <th></th>\n",
       "      <th>NAME</th>\n",
       "      <th>DESCRIPTION</th>\n",
       "      <th>PRICe</th>\n",
       "    </tr>\n",
       "  </thead>\n",
       "  <tbody>\n",
       "    <tr>\n",
       "      <th>0</th>\n",
       "      <td>Magnolia</td>\n",
       "      <td>Modern Trendy Sneakers boot Sneakers Sneakers ...</td>\n",
       "      <td>449</td>\n",
       "    </tr>\n",
       "    <tr>\n",
       "      <th>1</th>\n",
       "      <td>ATOM</td>\n",
       "      <td>Sneakers For Men</td>\n",
       "      <td>1,485</td>\n",
       "    </tr>\n",
       "    <tr>\n",
       "      <th>2</th>\n",
       "      <td>BRUTON</td>\n",
       "      <td>Modern Trendy Shoes Sneakers For Men</td>\n",
       "      <td>379</td>\n",
       "    </tr>\n",
       "    <tr>\n",
       "      <th>3</th>\n",
       "      <td>Nobelite</td>\n",
       "      <td>Sneakers For Men</td>\n",
       "      <td>299</td>\n",
       "    </tr>\n",
       "    <tr>\n",
       "      <th>4</th>\n",
       "      <td>aadi</td>\n",
       "      <td>Synthetic Leather |Lightweight|Comfort|Summer|...</td>\n",
       "      <td>398</td>\n",
       "    </tr>\n",
       "    <tr>\n",
       "      <th>...</th>\n",
       "      <td>...</td>\n",
       "      <td>...</td>\n",
       "      <td>...</td>\n",
       "    </tr>\n",
       "    <tr>\n",
       "      <th>95</th>\n",
       "      <td>aadi</td>\n",
       "      <td>Sneakers For Men</td>\n",
       "      <td>299</td>\n",
       "    </tr>\n",
       "    <tr>\n",
       "      <th>96</th>\n",
       "      <td>RapidBox</td>\n",
       "      <td>Club Culture Sneakers For Men</td>\n",
       "      <td>695</td>\n",
       "    </tr>\n",
       "    <tr>\n",
       "      <th>97</th>\n",
       "      <td>WROGN</td>\n",
       "      <td>Spring Edge Alpha 1 Sneakers For Men</td>\n",
       "      <td>922</td>\n",
       "    </tr>\n",
       "    <tr>\n",
       "      <th>98</th>\n",
       "      <td>Free Kicks</td>\n",
       "      <td>Caven Sneakers For Men</td>\n",
       "      <td>599</td>\n",
       "    </tr>\n",
       "    <tr>\n",
       "      <th>99</th>\n",
       "      <td>PUMA</td>\n",
       "      <td>Hustle V2 Sneakers For Men</td>\n",
       "      <td>1,299</td>\n",
       "    </tr>\n",
       "  </tbody>\n",
       "</table>\n",
       "<p>100 rows × 3 columns</p>\n",
       "</div>"
      ],
      "text/plain": [
       "          NAME                                        DESCRIPTION  PRICe\n",
       "0     Magnolia  Modern Trendy Sneakers boot Sneakers Sneakers ...    449\n",
       "1         ATOM                                   Sneakers For Men  1,485\n",
       "2       BRUTON               Modern Trendy Shoes Sneakers For Men    379\n",
       "3     Nobelite                                   Sneakers For Men    299\n",
       "4         aadi  Synthetic Leather |Lightweight|Comfort|Summer|...    398\n",
       "..         ...                                                ...    ...\n",
       "95        aadi                                   Sneakers For Men    299\n",
       "96    RapidBox                      Club Culture Sneakers For Men    695\n",
       "97       WROGN               Spring Edge Alpha 1 Sneakers For Men    922\n",
       "98  Free Kicks                             Caven Sneakers For Men    599\n",
       "99        PUMA                         Hustle V2 Sneakers For Men  1,299\n",
       "\n",
       "[100 rows x 3 columns]"
      ]
     },
     "execution_count": 13,
     "metadata": {},
     "output_type": "execute_result"
    }
   ],
   "source": [
    "df6=pd.DataFrame({'NAME':NAMEOFBRND6,'DESCRIPTION':DESCOFPROD6,'PRICe':PRODPRIC6})\n",
    "df6"
   ]
  },
  {
   "cell_type": "code",
   "execution_count": 14,
   "id": "057f830a",
   "metadata": {},
   "outputs": [],
   "source": [
    "#Q7\n",
    "driver.get('https://www.amazon.in/')"
   ]
  },
  {
   "cell_type": "code",
   "execution_count": 18,
   "id": "b84b9986",
   "metadata": {},
   "outputs": [],
   "source": [
    "amzn_srch=driver.find_element(By.CLASS_NAME,\"nav-fill\")\n",
    "amzn_srch.click()"
   ]
  },
  {
   "cell_type": "code",
   "execution_count": 27,
   "id": "488e8454",
   "metadata": {},
   "outputs": [],
   "source": [
    "coredd=driver.find_element(By.XPATH,'//input[@type=\"text\"]')\n",
    "coredd.send_keys('laptop')"
   ]
  },
  {
   "cell_type": "code",
   "execution_count": 29,
   "id": "f3d298b5",
   "metadata": {},
   "outputs": [],
   "source": [
    "srch=driver.find_element(By.XPATH,'/html/body/div[1]/header/div/div[1]/div[2]/div/form/div[3]/div/span/input')\n",
    "srch.click()"
   ]
  },
  {
   "cell_type": "code",
   "execution_count": 30,
   "id": "f5212238",
   "metadata": {},
   "outputs": [],
   "source": [
    "ci7=driver.find_element(By.XPATH,'/html/body/div[1]/div[2]/div[1]/div[2]/div/div[3]/span/div[1]/div/div/div[7]/ul[7]/span[9]/li/span/a/span')\n",
    "ci7.click()"
   ]
  },
  {
   "cell_type": "code",
   "execution_count": 34,
   "id": "9008825c",
   "metadata": {},
   "outputs": [],
   "source": [
    "TiTle = []\n",
    "RaTing = []\n",
    "PrIze = []"
   ]
  },
  {
   "cell_type": "code",
   "execution_count": 37,
   "id": "176b671d",
   "metadata": {},
   "outputs": [],
   "source": [
    "titl=driver.find_elements(By.XPATH,'//span[@class=\"a-size-medium a-color-base a-text-normal\"]')\n",
    "for i in titl[0:10]:\n",
    "    TiTle.append(i.text)\n",
    "RATing=driver.find_elements(By.XPATH,'//span[@class=\"a-size-base puis-bold-weight-text\"]')\n",
    "for i in RATing[0:10]:\n",
    "    RaTing.append(i.text)\n",
    "prze=driver.find_elements(By.XPATH,'//span[@class=\"a-price-whole\"]')\n",
    "for i in prze[0:10]:\n",
    "    ppz=i.text.replace('₹','')\n",
    "    PrIze.append(ppz)\n",
    "        "
   ]
  },
  {
   "cell_type": "code",
   "execution_count": 38,
   "id": "4d36b126",
   "metadata": {},
   "outputs": [
    {
     "name": "stdout",
     "output_type": "stream",
     "text": [
      "10\n",
      "10\n",
      "10\n"
     ]
    }
   ],
   "source": [
    "print(len(TiTle))\n",
    "print(len(RaTing))\n",
    "print(len(PrIze))"
   ]
  },
  {
   "cell_type": "code",
   "execution_count": 39,
   "id": "fc529d70",
   "metadata": {},
   "outputs": [
    {
     "data": {
      "text/html": [
       "<div>\n",
       "<style scoped>\n",
       "    .dataframe tbody tr th:only-of-type {\n",
       "        vertical-align: middle;\n",
       "    }\n",
       "\n",
       "    .dataframe tbody tr th {\n",
       "        vertical-align: top;\n",
       "    }\n",
       "\n",
       "    .dataframe thead th {\n",
       "        text-align: right;\n",
       "    }\n",
       "</style>\n",
       "<table border=\"1\" class=\"dataframe\">\n",
       "  <thead>\n",
       "    <tr style=\"text-align: right;\">\n",
       "      <th></th>\n",
       "      <th>TITLE</th>\n",
       "      <th>RATINGs</th>\n",
       "      <th>PRICe</th>\n",
       "    </tr>\n",
       "  </thead>\n",
       "  <tbody>\n",
       "    <tr>\n",
       "      <th>0</th>\n",
       "      <td>ASUS Vivobook 15, Intel Core i7-12650H 12th Ge...</td>\n",
       "      <td>4.0</td>\n",
       "      <td>64,990</td>\n",
       "    </tr>\n",
       "    <tr>\n",
       "      <th>1</th>\n",
       "      <td>MSI GF63 Thin, Intel Core i7-11800H, 40CM FHD ...</td>\n",
       "      <td>4.5</td>\n",
       "      <td>70,990</td>\n",
       "    </tr>\n",
       "    <tr>\n",
       "      <th>2</th>\n",
       "      <td>Acer Nitro 5 12th Gen Intel Core i7-12650H Gam...</td>\n",
       "      <td>4.0</td>\n",
       "      <td>99,990</td>\n",
       "    </tr>\n",
       "    <tr>\n",
       "      <th>3</th>\n",
       "      <td>Dell Vostro 5630 13th Gen Laptop,Intel i7-1355...</td>\n",
       "      <td>4.6</td>\n",
       "      <td>89,990</td>\n",
       "    </tr>\n",
       "    <tr>\n",
       "      <th>4</th>\n",
       "      <td>Dell Inspiron 5430 13th Gen Laptop, Intel i7-1...</td>\n",
       "      <td>3.3</td>\n",
       "      <td>86,249</td>\n",
       "    </tr>\n",
       "    <tr>\n",
       "      <th>5</th>\n",
       "      <td>ASUS TUF Gaming F15, 15.6-inch (39.62 cms) FHD...</td>\n",
       "      <td>4.4</td>\n",
       "      <td>89,990</td>\n",
       "    </tr>\n",
       "    <tr>\n",
       "      <th>6</th>\n",
       "      <td>ASUS TUF Gaming F15 (2023) 90WHr Battery, Inte...</td>\n",
       "      <td>4.3</td>\n",
       "      <td>1,15,990</td>\n",
       "    </tr>\n",
       "    <tr>\n",
       "      <th>7</th>\n",
       "      <td>MSI Modern 14, Intel 12th Gen. i7-1255U, 36CM ...</td>\n",
       "      <td>4.1</td>\n",
       "      <td>52,990</td>\n",
       "    </tr>\n",
       "    <tr>\n",
       "      <th>8</th>\n",
       "      <td>ASUS Creator Series Vivobook 14X OLED (2023), ...</td>\n",
       "      <td>3.5</td>\n",
       "      <td>92,990</td>\n",
       "    </tr>\n",
       "    <tr>\n",
       "      <th>9</th>\n",
       "      <td>ASUS Creator Series Vivobook 14X OLED (2023), ...</td>\n",
       "      <td>4.5</td>\n",
       "      <td>92,990</td>\n",
       "    </tr>\n",
       "  </tbody>\n",
       "</table>\n",
       "</div>"
      ],
      "text/plain": [
       "                                               TITLE RATINGs     PRICe\n",
       "0  ASUS Vivobook 15, Intel Core i7-12650H 12th Ge...     4.0    64,990\n",
       "1  MSI GF63 Thin, Intel Core i7-11800H, 40CM FHD ...     4.5    70,990\n",
       "2  Acer Nitro 5 12th Gen Intel Core i7-12650H Gam...     4.0    99,990\n",
       "3  Dell Vostro 5630 13th Gen Laptop,Intel i7-1355...     4.6    89,990\n",
       "4  Dell Inspiron 5430 13th Gen Laptop, Intel i7-1...     3.3    86,249\n",
       "5  ASUS TUF Gaming F15, 15.6-inch (39.62 cms) FHD...     4.4    89,990\n",
       "6  ASUS TUF Gaming F15 (2023) 90WHr Battery, Inte...     4.3  1,15,990\n",
       "7  MSI Modern 14, Intel 12th Gen. i7-1255U, 36CM ...     4.1    52,990\n",
       "8  ASUS Creator Series Vivobook 14X OLED (2023), ...     3.5    92,990\n",
       "9  ASUS Creator Series Vivobook 14X OLED (2023), ...     4.5    92,990"
      ]
     },
     "execution_count": 39,
     "metadata": {},
     "output_type": "execute_result"
    }
   ],
   "source": [
    "df7=pd.DataFrame({'TITLE':TiTle,'RATINGs':RaTing,'PRICe':PrIze})\n",
    "df7"
   ]
  },
  {
   "cell_type": "code",
   "execution_count": 40,
   "id": "ddc9a98a",
   "metadata": {},
   "outputs": [],
   "source": [
    "#Q8\n",
    "\n",
    "driver.get('https://www.azquotes.com/')"
   ]
  },
  {
   "cell_type": "code",
   "execution_count": 41,
   "id": "b32dcd84",
   "metadata": {},
   "outputs": [],
   "source": [
    "srch_link=driver.find_element(By.XPATH,'/html/body/div[1]/div[1]/div[1]/div/div[3]/ul/li[5]/a')\n",
    "srch_link.click()"
   ]
  },
  {
   "cell_type": "code",
   "execution_count": 42,
   "id": "cc9be7f3",
   "metadata": {},
   "outputs": [],
   "source": [
    "Quotes=[]"
   ]
  },
  {
   "cell_type": "code",
   "execution_count": 49,
   "id": "74a01081",
   "metadata": {},
   "outputs": [],
   "source": [
    "start=0\n",
    "end=10\n",
    "\n",
    "for pages in range(start,end):\n",
    "    quotes=driver.find_elements(By.XPATH,'//a[@class=\"title\"]')\n",
    "    for i in quotes:\n",
    "        Quotes.append(i.text)\n",
    "    \n",
    "    page_next=driver.find_element(By.CLASS_NAME,'next')\n",
    "    page_next.click()\n",
    "    time.sleep(11)"
   ]
  },
  {
   "cell_type": "code",
   "execution_count": 51,
   "id": "43585cd5",
   "metadata": {},
   "outputs": [],
   "source": [
    "quo=Quotes[0:1000]"
   ]
  },
  {
   "cell_type": "code",
   "execution_count": 52,
   "id": "d4445f3c",
   "metadata": {},
   "outputs": [
    {
     "data": {
      "text/html": [
       "<div>\n",
       "<style scoped>\n",
       "    .dataframe tbody tr th:only-of-type {\n",
       "        vertical-align: middle;\n",
       "    }\n",
       "\n",
       "    .dataframe tbody tr th {\n",
       "        vertical-align: top;\n",
       "    }\n",
       "\n",
       "    .dataframe thead th {\n",
       "        text-align: right;\n",
       "    }\n",
       "</style>\n",
       "<table border=\"1\" class=\"dataframe\">\n",
       "  <thead>\n",
       "    <tr style=\"text-align: right;\">\n",
       "      <th></th>\n",
       "      <th>QUOTES</th>\n",
       "    </tr>\n",
       "  </thead>\n",
       "  <tbody>\n",
       "    <tr>\n",
       "      <th>0</th>\n",
       "      <td>The essence of strategy is choosing what not t...</td>\n",
       "    </tr>\n",
       "    <tr>\n",
       "      <th>1</th>\n",
       "      <td>One cannot and must not try to erase the past ...</td>\n",
       "    </tr>\n",
       "    <tr>\n",
       "      <th>2</th>\n",
       "      <td>Patriotism means to stand by the country. It d...</td>\n",
       "    </tr>\n",
       "    <tr>\n",
       "      <th>3</th>\n",
       "      <td>Death is something inevitable. When a man has ...</td>\n",
       "    </tr>\n",
       "    <tr>\n",
       "      <th>4</th>\n",
       "      <td>You have to love a nation that celebrates its ...</td>\n",
       "    </tr>\n",
       "    <tr>\n",
       "      <th>...</th>\n",
       "      <td>...</td>\n",
       "    </tr>\n",
       "    <tr>\n",
       "      <th>995</th>\n",
       "      <td>When one door closes, another opens; but we of...</td>\n",
       "    </tr>\n",
       "    <tr>\n",
       "      <th>996</th>\n",
       "      <td>Don't find fault, find a remedy.</td>\n",
       "    </tr>\n",
       "    <tr>\n",
       "      <th>997</th>\n",
       "      <td>I used to think the worst thing in life was to...</td>\n",
       "    </tr>\n",
       "    <tr>\n",
       "      <th>998</th>\n",
       "      <td>Friends and good manners will carry you where ...</td>\n",
       "    </tr>\n",
       "    <tr>\n",
       "      <th>999</th>\n",
       "      <td>If you want to make a permanent change, stop f...</td>\n",
       "    </tr>\n",
       "  </tbody>\n",
       "</table>\n",
       "<p>1000 rows × 1 columns</p>\n",
       "</div>"
      ],
      "text/plain": [
       "                                                QUOTES\n",
       "0    The essence of strategy is choosing what not t...\n",
       "1    One cannot and must not try to erase the past ...\n",
       "2    Patriotism means to stand by the country. It d...\n",
       "3    Death is something inevitable. When a man has ...\n",
       "4    You have to love a nation that celebrates its ...\n",
       "..                                                 ...\n",
       "995  When one door closes, another opens; but we of...\n",
       "996                   Don't find fault, find a remedy.\n",
       "997  I used to think the worst thing in life was to...\n",
       "998  Friends and good manners will carry you where ...\n",
       "999  If you want to make a permanent change, stop f...\n",
       "\n",
       "[1000 rows x 1 columns]"
      ]
     },
     "execution_count": 52,
     "metadata": {},
     "output_type": "execute_result"
    }
   ],
   "source": [
    "df8=pd.DataFrame({'QUOTES':quo})\n",
    "df8"
   ]
  },
  {
   "cell_type": "code",
   "execution_count": 53,
   "id": "e709aa62",
   "metadata": {},
   "outputs": [],
   "source": [
    "#Q9\n",
    "\n",
    "\n",
    "driver.get('https://www.jagranjosh.com/')"
   ]
  },
  {
   "cell_type": "code",
   "execution_count": 54,
   "id": "66dc0b1c",
   "metadata": {},
   "outputs": [],
   "source": [
    "jagran=driver.find_element(By.XPATH,'/html/body/div/header/nav/div/div/div[3]/ul/li[3]/a')\n",
    "jagran.click()"
   ]
  },
  {
   "cell_type": "code",
   "execution_count": 55,
   "id": "5198863b",
   "metadata": {},
   "outputs": [],
   "source": [
    "PM=[]"
   ]
  },
  {
   "cell_type": "code",
   "execution_count": 56,
   "id": "28a8a144",
   "metadata": {},
   "outputs": [],
   "source": [
    "pmlist=driver.find_element(By.XPATH,'/html/body/div[1]/div/div/div[2]/div/div[10]/div/div/ul/li[2]/a')\n",
    "pmlist.click()"
   ]
  },
  {
   "cell_type": "code",
   "execution_count": 59,
   "id": "76c93678",
   "metadata": {},
   "outputs": [
    {
     "data": {
      "text/plain": [
       "[<selenium.webdriver.remote.webelement.WebElement (session=\"ceb8b42bfdccd8b4b9f0ad71651a0479\", element=\"B70F1A5CC3287D20B17552F94DFD2DB5_element_900\")>]"
      ]
     },
     "execution_count": 59,
     "metadata": {},
     "output_type": "execute_result"
    }
   ],
   "source": [
    "NamE=driver.find_elements(By.XPATH,'/html/body/div[1]/div[2]/div/div[2]/div/div[1]/div/div/div/div[4]/span/div[3]/table/tbody/tr[2]/td[2]/p/strong/a')\n",
    "NamE."
   ]
  },
  {
   "cell_type": "code",
   "execution_count": null,
   "id": "0faff8f1",
   "metadata": {},
   "outputs": [],
   "source": []
  },
  {
   "cell_type": "code",
   "execution_count": 60,
   "id": "ba8e6b8c",
   "metadata": {},
   "outputs": [],
   "source": [
    "#Q10\n",
    "\n",
    "driver.get('https://www.motor1.com/')"
   ]
  },
  {
   "cell_type": "code",
   "execution_count": 63,
   "id": "080e89be",
   "metadata": {},
   "outputs": [],
   "source": [
    "article=driver.find_element(By.CLASS_NAME,\"m1-navigation-main-part-right\")\n",
    "article.click()"
   ]
  },
  {
   "cell_type": "code",
   "execution_count": 65,
   "id": "23a59e6a",
   "metadata": {},
   "outputs": [],
   "source": [
    "art=driver.find_element(By.XPATH,'/html/body/div[10]/div[2]/div/div/div[3]/div/div/div/form/input')\n",
    "art.send_keys('50 most expensive cars in the world')"
   ]
  },
  {
   "cell_type": "code",
   "execution_count": 66,
   "id": "3fb2056f",
   "metadata": {},
   "outputs": [],
   "source": [
    "srch_art=driver.find_element(By.XPATH,'/html/body/div[10]/div[2]/div/div/div[3]/div/div/div/form/button[1]')\n",
    "srch_art.click()"
   ]
  },
  {
   "cell_type": "code",
   "execution_count": 67,
   "id": "c52ba476",
   "metadata": {},
   "outputs": [],
   "source": [
    "top_car_page=driver.find_element(By.XPATH,'/html/body/div[10]/div[9]/div/div[1]/div/div/div[1]/div/div[1]/h3/a')\n",
    "top_car_page.click()"
   ]
  },
  {
   "cell_type": "code",
   "execution_count": 85,
   "id": "f4a60b1f",
   "metadata": {},
   "outputs": [],
   "source": [
    "Car = []\n",
    "carprice = []\n"
   ]
  },
  {
   "cell_type": "code",
   "execution_count": 86,
   "id": "3b1f2b23",
   "metadata": {},
   "outputs": [],
   "source": [
    "NName=driver.find_elements(By.XPATH,'//h3[@class=\"subheader\"]')\n",
    "for i in nname:\n",
    "    Car.append(i.text)\n"
   ]
  },
  {
   "cell_type": "code",
   "execution_count": 88,
   "id": "dfb55ff4",
   "metadata": {},
   "outputs": [],
   "source": [
    "car=cname[0:50]"
   ]
  },
  {
   "cell_type": "code",
   "execution_count": 89,
   "id": "22ba280a",
   "metadata": {},
   "outputs": [
    {
     "data": {
      "text/html": [
       "<div>\n",
       "<style scoped>\n",
       "    .dataframe tbody tr th:only-of-type {\n",
       "        vertical-align: middle;\n",
       "    }\n",
       "\n",
       "    .dataframe tbody tr th {\n",
       "        vertical-align: top;\n",
       "    }\n",
       "\n",
       "    .dataframe thead th {\n",
       "        text-align: right;\n",
       "    }\n",
       "</style>\n",
       "<table border=\"1\" class=\"dataframe\">\n",
       "  <thead>\n",
       "    <tr style=\"text-align: right;\">\n",
       "      <th></th>\n",
       "      <th>CAR</th>\n",
       "    </tr>\n",
       "  </thead>\n",
       "  <tbody>\n",
       "    <tr>\n",
       "      <th>0</th>\n",
       "      <td>&lt;selenium.webdriver.remote.webelement.WebEleme...</td>\n",
       "    </tr>\n",
       "    <tr>\n",
       "      <th>1</th>\n",
       "      <td>&lt;selenium.webdriver.remote.webelement.WebEleme...</td>\n",
       "    </tr>\n",
       "    <tr>\n",
       "      <th>2</th>\n",
       "      <td>&lt;selenium.webdriver.remote.webelement.WebEleme...</td>\n",
       "    </tr>\n",
       "    <tr>\n",
       "      <th>3</th>\n",
       "      <td>&lt;selenium.webdriver.remote.webelement.WebEleme...</td>\n",
       "    </tr>\n",
       "    <tr>\n",
       "      <th>4</th>\n",
       "      <td>&lt;selenium.webdriver.remote.webelement.WebEleme...</td>\n",
       "    </tr>\n",
       "    <tr>\n",
       "      <th>5</th>\n",
       "      <td>&lt;selenium.webdriver.remote.webelement.WebEleme...</td>\n",
       "    </tr>\n",
       "    <tr>\n",
       "      <th>6</th>\n",
       "      <td>&lt;selenium.webdriver.remote.webelement.WebEleme...</td>\n",
       "    </tr>\n",
       "    <tr>\n",
       "      <th>7</th>\n",
       "      <td>&lt;selenium.webdriver.remote.webelement.WebEleme...</td>\n",
       "    </tr>\n",
       "    <tr>\n",
       "      <th>8</th>\n",
       "      <td>&lt;selenium.webdriver.remote.webelement.WebEleme...</td>\n",
       "    </tr>\n",
       "    <tr>\n",
       "      <th>9</th>\n",
       "      <td>&lt;selenium.webdriver.remote.webelement.WebEleme...</td>\n",
       "    </tr>\n",
       "    <tr>\n",
       "      <th>10</th>\n",
       "      <td>&lt;selenium.webdriver.remote.webelement.WebEleme...</td>\n",
       "    </tr>\n",
       "    <tr>\n",
       "      <th>11</th>\n",
       "      <td>&lt;selenium.webdriver.remote.webelement.WebEleme...</td>\n",
       "    </tr>\n",
       "    <tr>\n",
       "      <th>12</th>\n",
       "      <td>&lt;selenium.webdriver.remote.webelement.WebEleme...</td>\n",
       "    </tr>\n",
       "    <tr>\n",
       "      <th>13</th>\n",
       "      <td>&lt;selenium.webdriver.remote.webelement.WebEleme...</td>\n",
       "    </tr>\n",
       "    <tr>\n",
       "      <th>14</th>\n",
       "      <td>&lt;selenium.webdriver.remote.webelement.WebEleme...</td>\n",
       "    </tr>\n",
       "    <tr>\n",
       "      <th>15</th>\n",
       "      <td>&lt;selenium.webdriver.remote.webelement.WebEleme...</td>\n",
       "    </tr>\n",
       "    <tr>\n",
       "      <th>16</th>\n",
       "      <td>&lt;selenium.webdriver.remote.webelement.WebEleme...</td>\n",
       "    </tr>\n",
       "    <tr>\n",
       "      <th>17</th>\n",
       "      <td>&lt;selenium.webdriver.remote.webelement.WebEleme...</td>\n",
       "    </tr>\n",
       "    <tr>\n",
       "      <th>18</th>\n",
       "      <td>&lt;selenium.webdriver.remote.webelement.WebEleme...</td>\n",
       "    </tr>\n",
       "    <tr>\n",
       "      <th>19</th>\n",
       "      <td>&lt;selenium.webdriver.remote.webelement.WebEleme...</td>\n",
       "    </tr>\n",
       "    <tr>\n",
       "      <th>20</th>\n",
       "      <td>&lt;selenium.webdriver.remote.webelement.WebEleme...</td>\n",
       "    </tr>\n",
       "    <tr>\n",
       "      <th>21</th>\n",
       "      <td>&lt;selenium.webdriver.remote.webelement.WebEleme...</td>\n",
       "    </tr>\n",
       "    <tr>\n",
       "      <th>22</th>\n",
       "      <td>&lt;selenium.webdriver.remote.webelement.WebEleme...</td>\n",
       "    </tr>\n",
       "    <tr>\n",
       "      <th>23</th>\n",
       "      <td>&lt;selenium.webdriver.remote.webelement.WebEleme...</td>\n",
       "    </tr>\n",
       "    <tr>\n",
       "      <th>24</th>\n",
       "      <td>&lt;selenium.webdriver.remote.webelement.WebEleme...</td>\n",
       "    </tr>\n",
       "    <tr>\n",
       "      <th>25</th>\n",
       "      <td>&lt;selenium.webdriver.remote.webelement.WebEleme...</td>\n",
       "    </tr>\n",
       "    <tr>\n",
       "      <th>26</th>\n",
       "      <td>&lt;selenium.webdriver.remote.webelement.WebEleme...</td>\n",
       "    </tr>\n",
       "    <tr>\n",
       "      <th>27</th>\n",
       "      <td>&lt;selenium.webdriver.remote.webelement.WebEleme...</td>\n",
       "    </tr>\n",
       "    <tr>\n",
       "      <th>28</th>\n",
       "      <td>&lt;selenium.webdriver.remote.webelement.WebEleme...</td>\n",
       "    </tr>\n",
       "    <tr>\n",
       "      <th>29</th>\n",
       "      <td>&lt;selenium.webdriver.remote.webelement.WebEleme...</td>\n",
       "    </tr>\n",
       "    <tr>\n",
       "      <th>30</th>\n",
       "      <td>&lt;selenium.webdriver.remote.webelement.WebEleme...</td>\n",
       "    </tr>\n",
       "    <tr>\n",
       "      <th>31</th>\n",
       "      <td>&lt;selenium.webdriver.remote.webelement.WebEleme...</td>\n",
       "    </tr>\n",
       "    <tr>\n",
       "      <th>32</th>\n",
       "      <td>&lt;selenium.webdriver.remote.webelement.WebEleme...</td>\n",
       "    </tr>\n",
       "    <tr>\n",
       "      <th>33</th>\n",
       "      <td>&lt;selenium.webdriver.remote.webelement.WebEleme...</td>\n",
       "    </tr>\n",
       "    <tr>\n",
       "      <th>34</th>\n",
       "      <td>&lt;selenium.webdriver.remote.webelement.WebEleme...</td>\n",
       "    </tr>\n",
       "    <tr>\n",
       "      <th>35</th>\n",
       "      <td>&lt;selenium.webdriver.remote.webelement.WebEleme...</td>\n",
       "    </tr>\n",
       "    <tr>\n",
       "      <th>36</th>\n",
       "      <td>&lt;selenium.webdriver.remote.webelement.WebEleme...</td>\n",
       "    </tr>\n",
       "    <tr>\n",
       "      <th>37</th>\n",
       "      <td>&lt;selenium.webdriver.remote.webelement.WebEleme...</td>\n",
       "    </tr>\n",
       "    <tr>\n",
       "      <th>38</th>\n",
       "      <td>&lt;selenium.webdriver.remote.webelement.WebEleme...</td>\n",
       "    </tr>\n",
       "    <tr>\n",
       "      <th>39</th>\n",
       "      <td>&lt;selenium.webdriver.remote.webelement.WebEleme...</td>\n",
       "    </tr>\n",
       "    <tr>\n",
       "      <th>40</th>\n",
       "      <td>&lt;selenium.webdriver.remote.webelement.WebEleme...</td>\n",
       "    </tr>\n",
       "    <tr>\n",
       "      <th>41</th>\n",
       "      <td>&lt;selenium.webdriver.remote.webelement.WebEleme...</td>\n",
       "    </tr>\n",
       "    <tr>\n",
       "      <th>42</th>\n",
       "      <td>&lt;selenium.webdriver.remote.webelement.WebEleme...</td>\n",
       "    </tr>\n",
       "    <tr>\n",
       "      <th>43</th>\n",
       "      <td>&lt;selenium.webdriver.remote.webelement.WebEleme...</td>\n",
       "    </tr>\n",
       "    <tr>\n",
       "      <th>44</th>\n",
       "      <td>&lt;selenium.webdriver.remote.webelement.WebEleme...</td>\n",
       "    </tr>\n",
       "    <tr>\n",
       "      <th>45</th>\n",
       "      <td>&lt;selenium.webdriver.remote.webelement.WebEleme...</td>\n",
       "    </tr>\n",
       "    <tr>\n",
       "      <th>46</th>\n",
       "      <td>&lt;selenium.webdriver.remote.webelement.WebEleme...</td>\n",
       "    </tr>\n",
       "    <tr>\n",
       "      <th>47</th>\n",
       "      <td>&lt;selenium.webdriver.remote.webelement.WebEleme...</td>\n",
       "    </tr>\n",
       "    <tr>\n",
       "      <th>48</th>\n",
       "      <td>&lt;selenium.webdriver.remote.webelement.WebEleme...</td>\n",
       "    </tr>\n",
       "    <tr>\n",
       "      <th>49</th>\n",
       "      <td>&lt;selenium.webdriver.remote.webelement.WebEleme...</td>\n",
       "    </tr>\n",
       "  </tbody>\n",
       "</table>\n",
       "</div>"
      ],
      "text/plain": [
       "                                                  CAR\n",
       "0   <selenium.webdriver.remote.webelement.WebEleme...\n",
       "1   <selenium.webdriver.remote.webelement.WebEleme...\n",
       "2   <selenium.webdriver.remote.webelement.WebEleme...\n",
       "3   <selenium.webdriver.remote.webelement.WebEleme...\n",
       "4   <selenium.webdriver.remote.webelement.WebEleme...\n",
       "5   <selenium.webdriver.remote.webelement.WebEleme...\n",
       "6   <selenium.webdriver.remote.webelement.WebEleme...\n",
       "7   <selenium.webdriver.remote.webelement.WebEleme...\n",
       "8   <selenium.webdriver.remote.webelement.WebEleme...\n",
       "9   <selenium.webdriver.remote.webelement.WebEleme...\n",
       "10  <selenium.webdriver.remote.webelement.WebEleme...\n",
       "11  <selenium.webdriver.remote.webelement.WebEleme...\n",
       "12  <selenium.webdriver.remote.webelement.WebEleme...\n",
       "13  <selenium.webdriver.remote.webelement.WebEleme...\n",
       "14  <selenium.webdriver.remote.webelement.WebEleme...\n",
       "15  <selenium.webdriver.remote.webelement.WebEleme...\n",
       "16  <selenium.webdriver.remote.webelement.WebEleme...\n",
       "17  <selenium.webdriver.remote.webelement.WebEleme...\n",
       "18  <selenium.webdriver.remote.webelement.WebEleme...\n",
       "19  <selenium.webdriver.remote.webelement.WebEleme...\n",
       "20  <selenium.webdriver.remote.webelement.WebEleme...\n",
       "21  <selenium.webdriver.remote.webelement.WebEleme...\n",
       "22  <selenium.webdriver.remote.webelement.WebEleme...\n",
       "23  <selenium.webdriver.remote.webelement.WebEleme...\n",
       "24  <selenium.webdriver.remote.webelement.WebEleme...\n",
       "25  <selenium.webdriver.remote.webelement.WebEleme...\n",
       "26  <selenium.webdriver.remote.webelement.WebEleme...\n",
       "27  <selenium.webdriver.remote.webelement.WebEleme...\n",
       "28  <selenium.webdriver.remote.webelement.WebEleme...\n",
       "29  <selenium.webdriver.remote.webelement.WebEleme...\n",
       "30  <selenium.webdriver.remote.webelement.WebEleme...\n",
       "31  <selenium.webdriver.remote.webelement.WebEleme...\n",
       "32  <selenium.webdriver.remote.webelement.WebEleme...\n",
       "33  <selenium.webdriver.remote.webelement.WebEleme...\n",
       "34  <selenium.webdriver.remote.webelement.WebEleme...\n",
       "35  <selenium.webdriver.remote.webelement.WebEleme...\n",
       "36  <selenium.webdriver.remote.webelement.WebEleme...\n",
       "37  <selenium.webdriver.remote.webelement.WebEleme...\n",
       "38  <selenium.webdriver.remote.webelement.WebEleme...\n",
       "39  <selenium.webdriver.remote.webelement.WebEleme...\n",
       "40  <selenium.webdriver.remote.webelement.WebEleme...\n",
       "41  <selenium.webdriver.remote.webelement.WebEleme...\n",
       "42  <selenium.webdriver.remote.webelement.WebEleme...\n",
       "43  <selenium.webdriver.remote.webelement.WebEleme...\n",
       "44  <selenium.webdriver.remote.webelement.WebEleme...\n",
       "45  <selenium.webdriver.remote.webelement.WebEleme...\n",
       "46  <selenium.webdriver.remote.webelement.WebEleme...\n",
       "47  <selenium.webdriver.remote.webelement.WebEleme...\n",
       "48  <selenium.webdriver.remote.webelement.WebEleme...\n",
       "49  <selenium.webdriver.remote.webelement.WebEleme..."
      ]
     },
     "execution_count": 89,
     "metadata": {},
     "output_type": "execute_result"
    }
   ],
   "source": [
    "df10=pd.DataFrame({'CAR':car})\n",
    "df10"
   ]
  },
  {
   "cell_type": "code",
   "execution_count": null,
   "id": "525fe6f3",
   "metadata": {},
   "outputs": [],
   "source": []
  }
 ],
 "metadata": {
  "kernelspec": {
   "display_name": "Python 3 (ipykernel)",
   "language": "python",
   "name": "python3"
  },
  "language_info": {
   "codemirror_mode": {
    "name": "ipython",
    "version": 3
   },
   "file_extension": ".py",
   "mimetype": "text/x-python",
   "name": "python",
   "nbconvert_exporter": "python",
   "pygments_lexer": "ipython3",
   "version": "3.9.13"
  }
 },
 "nbformat": 4,
 "nbformat_minor": 5
}
