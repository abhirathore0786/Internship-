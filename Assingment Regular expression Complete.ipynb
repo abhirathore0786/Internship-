{
 "cells": [
  {
   "cell_type": "code",
   "execution_count": 1,
   "id": "4e1dad8f",
   "metadata": {},
   "outputs": [],
   "source": [
    "import re\n",
    "import pandas as pd"
   ]
  },
  {
   "cell_type": "code",
   "execution_count": 117,
   "id": "8211392f",
   "metadata": {},
   "outputs": [
    {
     "name": "stdout",
     "output_type": "stream",
     "text": [
      "('Python:Exercises:PHP:exercises:', 4)\n"
     ]
    }
   ],
   "source": [
    "#ANS1\n",
    "string1='Python Exercises, PHP exercises.'\n",
    "\n",
    "pattern1= '\\s|\\W+'\n",
    "\n",
    "replace1=':'\n",
    "\n",
    "result1=re.sub(pattern1,replace1,string1)\n",
    "print(result1)"
   ]
  },
  {
   "cell_type": "code",
   "execution_count": 5,
   "id": "70211b40",
   "metadata": {},
   "outputs": [
    {
     "name": "stdout",
     "output_type": "stream",
     "text": [
      "[' abhishek,akansha,eliyana,ella and esha']\n"
     ]
    }
   ],
   "source": [
    "#ANS2\n",
    "\n",
    "string2='From class 12 abhishek,akansha,eliyana,ella and esha'\n",
    "\n",
    "pattern2= '\\sa.*|\\se.*'\n",
    "\n",
    "result2= re.findall(pattern2,string2)\n",
    "print(result2)"
   ]
  },
  {
   "cell_type": "code",
   "execution_count": 112,
   "id": "61b36665",
   "metadata": {},
   "outputs": [
    {
     "name": "stdout",
     "output_type": "stream",
     "text": [
      "['Once', 'was', 'a', 'crow', 'in', 'the']\n"
     ]
    }
   ],
   "source": [
    "#ANS3\n",
    "pattern3=re.compile(r'\\b\\w{1,4}\\b')\n",
    "\n",
    "result3=pattern3.findall('Once there was a crow in the jungle')\n",
    "\n",
    "print(result3)"
   ]
  },
  {
   "cell_type": "code",
   "execution_count": 113,
   "id": "9cb0b302",
   "metadata": {},
   "outputs": [
    {
     "name": "stdout",
     "output_type": "stream",
     "text": [
      "['Once', 'there', 'was', 'crow', 'the']\n"
     ]
    }
   ],
   "source": [
    "#ANS4\n",
    "\n",
    "pattern4=re.compile(r\"\\b\\w{3,5}\\b\")\n",
    "                    \n",
    "result4=pattern4.findall('Once there was a crow in the jungle')\n",
    "print(result4)"
   ]
  },
  {
   "cell_type": "code",
   "execution_count": 101,
   "id": "ea0e61d2",
   "metadata": {},
   "outputs": [
    {
     "name": "stdout",
     "output_type": "stream",
     "text": [
      "\"example.com\", \"hr@fliprobo.com\", \"github.com\", \"HelloData Science World\", \"DataScientist\"\n"
     ]
    }
   ],
   "source": [
    "#ANS5\n",
    "string5='\"example (.com)\", \"hr@fliprobo (.com)\", \"github (.com)\", \"Hello (Data Science World)\", \"Data (Scientist)\"'\n",
    "\n",
    "pattern5=re.compile('\\s[(]|[)]')\n",
    "\n",
    "result5=pattern5.sub('',string5)\n",
    "print(result5)"
   ]
  },
  {
   "cell_type": "code",
   "execution_count": 92,
   "id": "0e25c55b",
   "metadata": {},
   "outputs": [
    {
     "name": "stdout",
     "output_type": "stream",
     "text": [
      "\"example \", \"hr@fliprobo \", \"github \", \"Hello \", \"Data \"\n"
     ]
    }
   ],
   "source": [
    "#ANS6\n",
    "\n",
    "string6='\"example (.com)\", \"hr@fliprobo (.com)\", \"github (.com)\", \"Hello (Data Science World)\", \"Data (Scientist)\"'\n",
    "\n",
    "pattern6=r'\\([^)]*\\)'\n",
    "\n",
    "result6=re.sub(pattern6,\"\",string6)\n",
    "\n",
    "print(result6)\n"
   ]
  },
  {
   "cell_type": "code",
   "execution_count": 121,
   "id": "92365893",
   "metadata": {},
   "outputs": [
    {
     "name": "stdout",
     "output_type": "stream",
     "text": [
      "['Importance', 'Of', 'Regular', 'Expressions', 'In', 'Python']\n"
     ]
    }
   ],
   "source": [
    "#ANS7\n",
    "string7='ImportanceOfRegularExpressionsInPython'\n",
    "\n",
    "result7=re.findall('([A-Z][^A-Z]*)',string7)\n",
    "print(result7)"
   ]
  },
  {
   "cell_type": "code",
   "execution_count": 73,
   "id": "bf974439",
   "metadata": {},
   "outputs": [
    {
     "name": "stdout",
     "output_type": "stream",
     "text": [
      "['RegularExpression', 'IsAn', 'ImportantTopic', 'InPython']\n"
     ]
    }
   ],
   "source": [
    "#ANS8\n",
    "\n",
    "str8='RegularExpression1IsAn2ImportantTopic3InPython'\n",
    "pattern8='\\d'\n",
    "\n",
    "result8=re.split(pattern8,str8)\n",
    "print(result8)"
   ]
  },
  {
   "cell_type": "code",
   "execution_count": 203,
   "id": "d937b01a",
   "metadata": {},
   "outputs": [
    {
     "ename": "TypeError",
     "evalue": "unsupported operand type(s) for &: 'str' and 'int'",
     "output_type": "error",
     "traceback": [
      "\u001b[1;31m---------------------------------------------------------------------------\u001b[0m",
      "\u001b[1;31mTypeError\u001b[0m                                 Traceback (most recent call last)",
      "\u001b[1;32m~\\AppData\\Local\\Temp\\ipykernel_9772\\396213655.py\u001b[0m in \u001b[0;36m<module>\u001b[1;34m\u001b[0m\n\u001b[0;32m      4\u001b[0m \u001b[1;33m\u001b[0m\u001b[0m\n\u001b[0;32m      5\u001b[0m \u001b[0mpattern9\u001b[0m\u001b[1;33m=\u001b[0m\u001b[1;34m'[A-Z]|\\d'\u001b[0m\u001b[1;33m\u001b[0m\u001b[1;33m\u001b[0m\u001b[0m\n\u001b[1;32m----> 6\u001b[1;33m \u001b[0mresult9\u001b[0m\u001b[1;33m=\u001b[0m\u001b[0mre\u001b[0m\u001b[1;33m.\u001b[0m\u001b[0mfindall\u001b[0m\u001b[1;33m(\u001b[0m\u001b[0mpattern9\u001b[0m\u001b[1;33m,\u001b[0m\u001b[1;34m' '\u001b[0m\u001b[1;33m,\u001b[0m\u001b[0mstring9\u001b[0m\u001b[1;33m)\u001b[0m\u001b[1;33m\u001b[0m\u001b[1;33m\u001b[0m\u001b[0m\n\u001b[0m\u001b[0;32m      7\u001b[0m \u001b[0mprint\u001b[0m\u001b[1;33m(\u001b[0m\u001b[0mresult9\u001b[0m\u001b[1;33m)\u001b[0m\u001b[1;33m\u001b[0m\u001b[1;33m\u001b[0m\u001b[0m\n",
      "\u001b[1;32mC:\\ProgramData\\Anaconda3\\lib\\re.py\u001b[0m in \u001b[0;36mfindall\u001b[1;34m(pattern, string, flags)\u001b[0m\n\u001b[0;32m    239\u001b[0m \u001b[1;33m\u001b[0m\u001b[0m\n\u001b[0;32m    240\u001b[0m     Empty matches are included in the result.\"\"\"\n\u001b[1;32m--> 241\u001b[1;33m     \u001b[1;32mreturn\u001b[0m \u001b[0m_compile\u001b[0m\u001b[1;33m(\u001b[0m\u001b[0mpattern\u001b[0m\u001b[1;33m,\u001b[0m \u001b[0mflags\u001b[0m\u001b[1;33m)\u001b[0m\u001b[1;33m.\u001b[0m\u001b[0mfindall\u001b[0m\u001b[1;33m(\u001b[0m\u001b[0mstring\u001b[0m\u001b[1;33m)\u001b[0m\u001b[1;33m\u001b[0m\u001b[1;33m\u001b[0m\u001b[0m\n\u001b[0m\u001b[0;32m    242\u001b[0m \u001b[1;33m\u001b[0m\u001b[0m\n\u001b[0;32m    243\u001b[0m \u001b[1;32mdef\u001b[0m \u001b[0mfinditer\u001b[0m\u001b[1;33m(\u001b[0m\u001b[0mpattern\u001b[0m\u001b[1;33m,\u001b[0m \u001b[0mstring\u001b[0m\u001b[1;33m,\u001b[0m \u001b[0mflags\u001b[0m\u001b[1;33m=\u001b[0m\u001b[1;36m0\u001b[0m\u001b[1;33m)\u001b[0m\u001b[1;33m:\u001b[0m\u001b[1;33m\u001b[0m\u001b[1;33m\u001b[0m\u001b[0m\n",
      "\u001b[1;32mC:\\ProgramData\\Anaconda3\\lib\\re.py\u001b[0m in \u001b[0;36m_compile\u001b[1;34m(pattern, flags)\u001b[0m\n\u001b[0;32m    302\u001b[0m     \u001b[1;32mif\u001b[0m \u001b[1;32mnot\u001b[0m \u001b[0msre_compile\u001b[0m\u001b[1;33m.\u001b[0m\u001b[0misstring\u001b[0m\u001b[1;33m(\u001b[0m\u001b[0mpattern\u001b[0m\u001b[1;33m)\u001b[0m\u001b[1;33m:\u001b[0m\u001b[1;33m\u001b[0m\u001b[1;33m\u001b[0m\u001b[0m\n\u001b[0;32m    303\u001b[0m         \u001b[1;32mraise\u001b[0m \u001b[0mTypeError\u001b[0m\u001b[1;33m(\u001b[0m\u001b[1;34m\"first argument must be string or compiled pattern\"\u001b[0m\u001b[1;33m)\u001b[0m\u001b[1;33m\u001b[0m\u001b[1;33m\u001b[0m\u001b[0m\n\u001b[1;32m--> 304\u001b[1;33m     \u001b[0mp\u001b[0m \u001b[1;33m=\u001b[0m \u001b[0msre_compile\u001b[0m\u001b[1;33m.\u001b[0m\u001b[0mcompile\u001b[0m\u001b[1;33m(\u001b[0m\u001b[0mpattern\u001b[0m\u001b[1;33m,\u001b[0m \u001b[0mflags\u001b[0m\u001b[1;33m)\u001b[0m\u001b[1;33m\u001b[0m\u001b[1;33m\u001b[0m\u001b[0m\n\u001b[0m\u001b[0;32m    305\u001b[0m     \u001b[1;32mif\u001b[0m \u001b[1;32mnot\u001b[0m \u001b[1;33m(\u001b[0m\u001b[0mflags\u001b[0m \u001b[1;33m&\u001b[0m \u001b[0mDEBUG\u001b[0m\u001b[1;33m)\u001b[0m\u001b[1;33m:\u001b[0m\u001b[1;33m\u001b[0m\u001b[1;33m\u001b[0m\u001b[0m\n\u001b[0;32m    306\u001b[0m         \u001b[1;32mif\u001b[0m \u001b[0mlen\u001b[0m\u001b[1;33m(\u001b[0m\u001b[0m_cache\u001b[0m\u001b[1;33m)\u001b[0m \u001b[1;33m>=\u001b[0m \u001b[0m_MAXCACHE\u001b[0m\u001b[1;33m:\u001b[0m\u001b[1;33m\u001b[0m\u001b[1;33m\u001b[0m\u001b[0m\n",
      "\u001b[1;32mC:\\ProgramData\\Anaconda3\\lib\\sre_compile.py\u001b[0m in \u001b[0;36mcompile\u001b[1;34m(p, flags)\u001b[0m\n\u001b[0;32m    786\u001b[0m     \u001b[1;32mif\u001b[0m \u001b[0misstring\u001b[0m\u001b[1;33m(\u001b[0m\u001b[0mp\u001b[0m\u001b[1;33m)\u001b[0m\u001b[1;33m:\u001b[0m\u001b[1;33m\u001b[0m\u001b[1;33m\u001b[0m\u001b[0m\n\u001b[0;32m    787\u001b[0m         \u001b[0mpattern\u001b[0m \u001b[1;33m=\u001b[0m \u001b[0mp\u001b[0m\u001b[1;33m\u001b[0m\u001b[1;33m\u001b[0m\u001b[0m\n\u001b[1;32m--> 788\u001b[1;33m         \u001b[0mp\u001b[0m \u001b[1;33m=\u001b[0m \u001b[0msre_parse\u001b[0m\u001b[1;33m.\u001b[0m\u001b[0mparse\u001b[0m\u001b[1;33m(\u001b[0m\u001b[0mp\u001b[0m\u001b[1;33m,\u001b[0m \u001b[0mflags\u001b[0m\u001b[1;33m)\u001b[0m\u001b[1;33m\u001b[0m\u001b[1;33m\u001b[0m\u001b[0m\n\u001b[0m\u001b[0;32m    789\u001b[0m     \u001b[1;32melse\u001b[0m\u001b[1;33m:\u001b[0m\u001b[1;33m\u001b[0m\u001b[1;33m\u001b[0m\u001b[0m\n\u001b[0;32m    790\u001b[0m         \u001b[0mpattern\u001b[0m \u001b[1;33m=\u001b[0m \u001b[1;32mNone\u001b[0m\u001b[1;33m\u001b[0m\u001b[1;33m\u001b[0m\u001b[0m\n",
      "\u001b[1;32mC:\\ProgramData\\Anaconda3\\lib\\sre_parse.py\u001b[0m in \u001b[0;36mparse\u001b[1;34m(str, flags, state)\u001b[0m\n\u001b[0;32m    953\u001b[0m \u001b[1;33m\u001b[0m\u001b[0m\n\u001b[0;32m    954\u001b[0m     \u001b[1;32mtry\u001b[0m\u001b[1;33m:\u001b[0m\u001b[1;33m\u001b[0m\u001b[1;33m\u001b[0m\u001b[0m\n\u001b[1;32m--> 955\u001b[1;33m         \u001b[0mp\u001b[0m \u001b[1;33m=\u001b[0m \u001b[0m_parse_sub\u001b[0m\u001b[1;33m(\u001b[0m\u001b[0msource\u001b[0m\u001b[1;33m,\u001b[0m \u001b[0mstate\u001b[0m\u001b[1;33m,\u001b[0m \u001b[0mflags\u001b[0m \u001b[1;33m&\u001b[0m \u001b[0mSRE_FLAG_VERBOSE\u001b[0m\u001b[1;33m,\u001b[0m \u001b[1;36m0\u001b[0m\u001b[1;33m)\u001b[0m\u001b[1;33m\u001b[0m\u001b[1;33m\u001b[0m\u001b[0m\n\u001b[0m\u001b[0;32m    956\u001b[0m     \u001b[1;32mexcept\u001b[0m \u001b[0mVerbose\u001b[0m\u001b[1;33m:\u001b[0m\u001b[1;33m\u001b[0m\u001b[1;33m\u001b[0m\u001b[0m\n\u001b[0;32m    957\u001b[0m         \u001b[1;31m# the VERBOSE flag was switched on inside the pattern.  to be\u001b[0m\u001b[1;33m\u001b[0m\u001b[1;33m\u001b[0m\u001b[0m\n",
      "\u001b[1;31mTypeError\u001b[0m: unsupported operand type(s) for &: 'str' and 'int'"
     ]
    }
   ],
   "source": [
    "#ANS9\n",
    "\n",
    "string9='RegularExpression1IsAn2ImportantTopic3InPython'\n",
    "\n",
    "pattern9='[A-Z]|\\d'\n",
    "result9=re.findall(pattern9,' ',string9)\n",
    "print(result9)"
   ]
  },
  {
   "cell_type": "code",
   "execution_count": 199,
   "id": "8cac48a8",
   "metadata": {},
   "outputs": [
    {
     "name": "stdout",
     "output_type": "stream",
     "text": [
      "['xyz@domain.com', 'abc@sdomain.domain', 'hr@fliprobo.com']\n"
     ]
    }
   ],
   "source": [
    "#ANS10\n",
    "string10=\"Hello my name is Data Science and my email address is xyz@domain.com and alternate email address is xyz.abc@sdomain.domain.com. Please contact us at hr@fliprobo.com for further information.\"\n",
    "pattern10=('\\w*[@]\\w*\\.\\w*')\n",
    "\n",
    "result10=re.findall(pattern10,string10)\n",
    "print(result10)"
   ]
  },
  {
   "cell_type": "code",
   "execution_count": 38,
   "id": "fbb138c0",
   "metadata": {},
   "outputs": [
    {
     "data": {
      "text/plain": [
       "['Hey_guys',\n",
       " '',\n",
       " 'My',\n",
       " '',\n",
       " 'new',\n",
       " '',\n",
       " 'mobile',\n",
       " '',\n",
       " 'number',\n",
       " '',\n",
       " 'is',\n",
       " '',\n",
       " '7056131800',\n",
       " '',\n",
       " 'and',\n",
       " '',\n",
       " 'mail',\n",
       " '',\n",
       " 'is',\n",
       " '',\n",
       " 'abhiboss73',\n",
       " '',\n",
       " 'gmail',\n",
       " '',\n",
       " 'com',\n",
       " '']"
      ]
     },
     "execution_count": 38,
     "metadata": {},
     "output_type": "execute_result"
    }
   ],
   "source": [
    "#ANS11\n",
    "\n",
    "string11='Hey_guys,My new mobile number is 7056131800 and mail is abhiboss73@gmail.com'\n",
    "result11= re.findall(r\"[a-zA-Z0-9_]*\",string11)\n",
    "result11"
   ]
  },
  {
   "cell_type": "code",
   "execution_count": 150,
   "id": "52a65d3c",
   "metadata": {},
   "outputs": [
    {
     "name": "stdout",
     "output_type": "stream",
     "text": [
      "<re.Match object; span=(37, 47), match='7056131800'>\n"
     ]
    }
   ],
   "source": [
    "#ANS12\n",
    "string12=\"My mobile number is so easy pls note-7056131800\"\n",
    "\n",
    "pattern12=re.search(\"\\d.*\",string12)\n",
    "print(pattern12)"
   ]
  },
  {
   "cell_type": "code",
   "execution_count": 151,
   "id": "1b683e50",
   "metadata": {},
   "outputs": [
    {
     "name": "stdout",
     "output_type": "stream",
     "text": [
      "192.168..1..12.\n"
     ]
    }
   ],
   "source": [
    "#ANS13\n",
    "string13=\"192.168.0.1.00.12.0\"\n",
    "\n",
    "pattern13=\"[0]\"\n",
    "result13=re.sub(pattern13,'',string13)\n",
    "print(result13)"
   ]
  },
  {
   "cell_type": "code",
   "execution_count": 153,
   "id": "3a1476cd",
   "metadata": {},
   "outputs": [
    {
     "name": "stdout",
     "output_type": "stream",
     "text": [
      "['August 15th 1947']\n"
     ]
    }
   ],
   "source": [
    "#ANS14\n",
    "string14=\" On August 15th 1947 that India was declared independent from British colonialism, and the reins of control were handed over to the leaders of the Country\"\n",
    "\n",
    "pattern14=re.findall(\"\\w*\\s\\d{2}\\w*\\s\\d{4}\",string14)\n",
    "print(pattern14)"
   ]
  },
  {
   "cell_type": "code",
   "execution_count": 137,
   "id": "95dd4fcf",
   "metadata": {},
   "outputs": [
    {
     "name": "stdout",
     "output_type": "stream",
     "text": [
      "<re.Match object; span=(16, 19), match='fox'>\n",
      "<re.Match object; span=(40, 43), match='dog'>\n"
     ]
    }
   ],
   "source": [
    "#ANS15\n",
    "string15=\"The quick brown fox jumps over the lazy dog.\"\n",
    " \n",
    "result15=re.finditer(r'fox|dog|horse',string15)\n",
    "\n",
    "for match_obj in result15:\n",
    "    print(match_obj)"
   ]
  },
  {
   "cell_type": "code",
   "execution_count": 104,
   "id": "ca125a39",
   "metadata": {},
   "outputs": [
    {
     "name": "stdout",
     "output_type": "stream",
     "text": [
      "<re.Match object; span=(16, 19), match='fox'>\n"
     ]
    }
   ],
   "source": [
    "#ANS16\n",
    "string16=\"The quick brown fox jumps over the lazy dog.\"\n",
    "\n",
    "search16=re.search('fox',string16)\n",
    "print(search16)"
   ]
  },
  {
   "cell_type": "code",
   "execution_count": 40,
   "id": "1d762adc",
   "metadata": {},
   "outputs": [
    {
     "name": "stdout",
     "output_type": "stream",
     "text": [
      "<re.Match object; span=(7, 16), match='exercises'>\n"
     ]
    }
   ],
   "source": [
    "#ANS17\n",
    "string17=\"Python exercises, PHP exercises, C# exercises\"\n",
    "search17=re.search(r'exercises',string17)\n",
    "print(search17)"
   ]
  },
  {
   "cell_type": "code",
   "execution_count": 154,
   "id": "fe2844a8",
   "metadata": {},
   "outputs": [
    {
     "name": "stdout",
     "output_type": "stream",
     "text": [
      "<re.Match object; span=(26, 29), match='for'>\n"
     ]
    }
   ],
   "source": [
    "#ANS18\n",
    "String18=\"DataScience field is good for career growth\"\n",
    "\n",
    "result18=re.search('for',String18)\n",
    "print(result18)"
   ]
  },
  {
   "cell_type": "code",
   "execution_count": 273,
   "id": "b4f232c3",
   "metadata": {},
   "outputs": [
    {
     "name": "stdout",
     "output_type": "stream",
     "text": [
      "22-12-1999\n"
     ]
    }
   ],
   "source": [
    "#ANS19\n",
    "string19='1999-12-22'\n",
    "\n",
    "pattern=(r'(\\d{4})-(\\d{1,2})-(\\d{1,2})')\n",
    "\n",
    "result19=re.sub(pattern,\"\\\\3-\\\\2-\\\\1\",string19)\n",
    "print(result19)"
   ]
  },
  {
   "cell_type": "code",
   "execution_count": 195,
   "id": "022b3cf3",
   "metadata": {},
   "outputs": [
    {
     "name": "stdout",
     "output_type": "stream",
     "text": [
      "['98.9', '99.67', '101.1']\n"
     ]
    }
   ],
   "source": [
    "string20=\"Temp of varoius pateint is 98.9,99.67,101.1\"\n",
    "\n",
    "pattern=\"\\d+\\..\\d|\\d+\\.\\d\"\n",
    "\n",
    "result20=re.findall(pattern,string20)\n",
    "print(result20)"
   ]
  },
  {
   "cell_type": "code",
   "execution_count": 192,
   "id": "d2a25746",
   "metadata": {},
   "outputs": [
    {
     "name": "stdout",
     "output_type": "stream",
     "text": [
      "<re.Match object; span=(18, 20), match='52'>\n",
      "(18, 20)\n"
     ]
    }
   ],
   "source": [
    "string21= \"My maths score is 52\"\n",
    "\n",
    "pattern21='\\d{2}'\n",
    "\n",
    "result21=re.search(pattern21,string21)\n",
    "print(result21)\n",
    "print(result21.span())"
   ]
  },
  {
   "cell_type": "code",
   "execution_count": 167,
   "id": "3a61479f",
   "metadata": {},
   "outputs": [
    {
     "name": "stdout",
     "output_type": "stream",
     "text": [
      "['947', '896', '926', '524', '734', '950', '642']\n"
     ]
    }
   ],
   "source": [
    "#ANS22\n",
    "string22=\"My marks in each semester are: 947, 896, 926, 524, 734, 950, 642\"\n",
    "pattern='\\d+'\n",
    "result22=re.findall(pattern,string22)\n",
    "print(result22)"
   ]
  },
  {
   "cell_type": "code",
   "execution_count": 173,
   "id": "1fcce73d",
   "metadata": {},
   "outputs": [
    {
     "name": "stdout",
     "output_type": "stream",
     "text": [
      "Regular Expression Is An Important Topic In Python\n"
     ]
    }
   ],
   "source": [
    "#ANS23\n",
    "string23=\"RegularExpressionIsAnImportantTopicInPython\"\n",
    "\n",
    "pattern=\"[A-Z][a-z]*\"\n",
    "\n",
    "result23=re.findall(pattern,string23)\n",
    "print(' '.join((result23)))"
   ]
  },
  {
   "cell_type": "code",
   "execution_count": 275,
   "id": "f737f7e8",
   "metadata": {},
   "outputs": [
    {
     "name": "stdout",
     "output_type": "stream",
     "text": [
      "['Hii', 'Abhishek']\n"
     ]
    }
   ],
   "source": [
    "#ANS24\n",
    "string25=\"Hii, i am Abhishek\"\n",
    "\n",
    "pattern=\"[A-Z]+[a-z]+\"\n",
    "\n",
    "result25=re.findall(pattern,string25)\n",
    "print(result25)"
   ]
  },
  {
   "cell_type": "code",
   "execution_count": 285,
   "id": "123522e4",
   "metadata": {},
   "outputs": [
    {
     "name": "stdout",
     "output_type": "stream",
     "text": [
      "Hello hello world\n"
     ]
    }
   ],
   "source": [
    "#ANS25\n",
    "string26=\"Hello hello world world\"\n",
    "\n",
    "pattern=r'\\b(\\w+)(?:\\W+\\1\\b)+' \n",
    "result26=re.sub(pattern,r'\\1',string26)\n",
    "\n",
    "print(result26)"
   ]
  },
  {
   "cell_type": "code",
   "execution_count": 5,
   "id": "817ef0a9",
   "metadata": {},
   "outputs": [
    {
     "name": "stdout",
     "output_type": "stream",
     "text": [
      "<re.Match object; span=(27, 35), match='abhi2202'>\n"
     ]
    }
   ],
   "source": [
    "#ANS26\n",
    "\n",
    "string27=\"Password for your login is abhi2202\"\n",
    "\n",
    "pattern='\\w*$'\n",
    "\n",
    "result27=re.search(pattern,string27)\n",
    "print(result27)"
   ]
  },
  {
   "cell_type": "code",
   "execution_count": 14,
   "id": "9b7f81fa",
   "metadata": {},
   "outputs": [
    {
     "name": "stdout",
     "output_type": "stream",
     "text": [
      "[' #Doltiwal', ' #xyzabc', ' #Demonetization']\n"
     ]
    }
   ],
   "source": [
    "#ANS27\n",
    "\n",
    "string28='RT @kapil_kausik: #Doltiwal I mean #xyzabc is \"hurt\" by #Demonetization as the same has rendered USELESS <ed><U+00A0><U+00BD><ed><U+00B1><U+0089> \"acquired funds\" No wo'\n",
    "\n",
    "pattern28='\\s[#]\\w*'\n",
    "\n",
    "result28=re.findall(pattern28,string28)\n",
    "print(result28)"
   ]
  },
  {
   "cell_type": "code",
   "execution_count": 183,
   "id": "9d6c2592",
   "metadata": {},
   "outputs": [
    {
     "name": "stdout",
     "output_type": "stream",
     "text": [
      "@Jags123456 Bharat band on 28??<ed><ed>Those who  are protesting #demonetization  are all different party leaders\n"
     ]
    }
   ],
   "source": [
    "#ANS28\n",
    "string29=\"@Jags123456 Bharat band on 28??<ed><U+00A0><U+00BD><ed><U+00B8><U+0082>Those who  are protesting #demonetization  are all different party leaders\"\n",
    "pattern29='\\W?[U]?\\+\\w*\\W'\n",
    "\n",
    "result28=re.sub(pattern29,\"\",string29)\n",
    "print(result28)"
   ]
  },
  {
   "cell_type": "code",
   "execution_count": 35,
   "id": "e93678ea",
   "metadata": {},
   "outputs": [
    {
     "name": "stdout",
     "output_type": "stream",
     "text": [
      "['12-09-1992', '15-12-1999']\n"
     ]
    }
   ],
   "source": [
    "#ANS29\n",
    "string31=\"Ron was born on 12-09-1992 and he was admitted to school 15-12-1999\"\n",
    "\n",
    "pattern='\\d{2}-\\d{2}-\\d{4}'\n",
    "result31=re.findall(pattern,string31)\n",
    "print(result31)"
   ]
  },
  {
   "cell_type": "code",
   "execution_count": 33,
   "id": "81fd912c",
   "metadata": {},
   "outputs": [
    {
     "name": "stdout",
     "output_type": "stream",
     "text": [
      "  following example creates   ArrayList   a capacity     elements. 4 elements     added     ArrayList     ArrayList   trimmed accordingly\n"
     ]
    }
   ],
   "source": [
    "#ANS30\n",
    "\n",
    "string30='The following example creates an ArrayList with a capacity of 50 elements. 4 elements are then added to the ArrayList and the ArrayList is trimmed accordingly'\n",
    "pattern=re.compile(r'\\b\\w{2,4}\\b')\n",
    "\n",
    "result30=pattern.sub(' ',string30)\n",
    "print(result30)"
   ]
  },
  {
   "cell_type": "code",
   "execution_count": null,
   "id": "0548eaa6",
   "metadata": {},
   "outputs": [],
   "source": []
  },
  {
   "cell_type": "code",
   "execution_count": null,
   "id": "f656f501",
   "metadata": {},
   "outputs": [],
   "source": []
  }
 ],
 "metadata": {
  "kernelspec": {
   "display_name": "Python 3 (ipykernel)",
   "language": "python",
   "name": "python3"
  },
  "language_info": {
   "codemirror_mode": {
    "name": "ipython",
    "version": 3
   },
   "file_extension": ".py",
   "mimetype": "text/x-python",
   "name": "python",
   "nbconvert_exporter": "python",
   "pygments_lexer": "ipython3",
   "version": "3.9.13"
  }
 },
 "nbformat": 4,
 "nbformat_minor": 5
}
