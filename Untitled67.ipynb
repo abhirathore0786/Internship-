{
 "cells": [
  {
   "cell_type": "code",
   "execution_count": 20,
   "id": "cfcd4f59",
   "metadata": {},
   "outputs": [],
   "source": [
    "import selenium\n",
    "import pandas as pd\n",
    "from selenium import webdriver\n",
    "from selenium.webdriver.common.by import By\n",
    "import warnings\n",
    "warnings.filterwarnings('ignore')\n",
    "import time"
   ]
  },
  {
   "cell_type": "code",
   "execution_count": 21,
   "id": "d3d0ead6",
   "metadata": {},
   "outputs": [],
   "source": [
    "driver=webdriver.Chrome()"
   ]
  },
  {
   "cell_type": "code",
   "execution_count": 47,
   "id": "4b2cf7d8",
   "metadata": {},
   "outputs": [],
   "source": [
    "driver.get('https://www.shine.com/')"
   ]
  },
  {
   "cell_type": "code",
   "execution_count": 49,
   "id": "40166602",
   "metadata": {},
   "outputs": [],
   "source": [
    "title=driver.find_element(By.CLASS_NAME,\"form-control  \")\n",
    "title.send_keys('Data Analyst')"
   ]
  },
  {
   "cell_type": "code",
   "execution_count": 50,
   "id": "6b26c7d6",
   "metadata": {},
   "outputs": [],
   "source": [
    "loc=driver.find_element(By.XPATH,\"/html/body/div[1]/div[4]/div/div[2]/div[2]/div/form/div/div[1]/ul/li[2]/div/input\")\n",
    "loc.send_keys('Bangalore')"
   ]
  },
  {
   "cell_type": "code",
   "execution_count": 52,
   "id": "70a29387",
   "metadata": {},
   "outputs": [],
   "source": [
    "search=driver.find_element(By.CLASS_NAME,\"searchForm_btnWrap_advance__VYBHN\")\n",
    "search.click()"
   ]
  },
  {
   "cell_type": "code",
   "execution_count": 53,
   "id": "d234b0c7",
   "metadata": {},
   "outputs": [],
   "source": [
    "\n",
    "company_name=[]\n",
    "experience=[]\n",
    "location=[]"
   ]
  },
  {
   "cell_type": "code",
   "execution_count": 67,
   "id": "421ae6dc",
   "metadata": {},
   "outputs": [
    {
     "data": {
      "text/plain": [
       "[<selenium.webdriver.remote.webelement.WebElement (session=\"2cd5b40997c2a32460e3a1f0729b9baf\", element=\"F0041A12906EB3CE9968F302E6B44CA9_element_895\")>,\n",
       " <selenium.webdriver.remote.webelement.WebElement (session=\"2cd5b40997c2a32460e3a1f0729b9baf\", element=\"F0041A12906EB3CE9968F302E6B44CA9_element_896\")>,\n",
       " <selenium.webdriver.remote.webelement.WebElement (session=\"2cd5b40997c2a32460e3a1f0729b9baf\", element=\"F0041A12906EB3CE9968F302E6B44CA9_element_897\")>,\n",
       " <selenium.webdriver.remote.webelement.WebElement (session=\"2cd5b40997c2a32460e3a1f0729b9baf\", element=\"F0041A12906EB3CE9968F302E6B44CA9_element_898\")>,\n",
       " <selenium.webdriver.remote.webelement.WebElement (session=\"2cd5b40997c2a32460e3a1f0729b9baf\", element=\"F0041A12906EB3CE9968F302E6B44CA9_element_899\")>,\n",
       " <selenium.webdriver.remote.webelement.WebElement (session=\"2cd5b40997c2a32460e3a1f0729b9baf\", element=\"F0041A12906EB3CE9968F302E6B44CA9_element_900\")>,\n",
       " <selenium.webdriver.remote.webelement.WebElement (session=\"2cd5b40997c2a32460e3a1f0729b9baf\", element=\"F0041A12906EB3CE9968F302E6B44CA9_element_901\")>,\n",
       " <selenium.webdriver.remote.webelement.WebElement (session=\"2cd5b40997c2a32460e3a1f0729b9baf\", element=\"F0041A12906EB3CE9968F302E6B44CA9_element_902\")>,\n",
       " <selenium.webdriver.remote.webelement.WebElement (session=\"2cd5b40997c2a32460e3a1f0729b9baf\", element=\"F0041A12906EB3CE9968F302E6B44CA9_element_903\")>,\n",
       " <selenium.webdriver.remote.webelement.WebElement (session=\"2cd5b40997c2a32460e3a1f0729b9baf\", element=\"F0041A12906EB3CE9968F302E6B44CA9_element_904\")>,\n",
       " <selenium.webdriver.remote.webelement.WebElement (session=\"2cd5b40997c2a32460e3a1f0729b9baf\", element=\"F0041A12906EB3CE9968F302E6B44CA9_element_905\")>,\n",
       " <selenium.webdriver.remote.webelement.WebElement (session=\"2cd5b40997c2a32460e3a1f0729b9baf\", element=\"F0041A12906EB3CE9968F302E6B44CA9_element_906\")>,\n",
       " <selenium.webdriver.remote.webelement.WebElement (session=\"2cd5b40997c2a32460e3a1f0729b9baf\", element=\"F0041A12906EB3CE9968F302E6B44CA9_element_907\")>,\n",
       " <selenium.webdriver.remote.webelement.WebElement (session=\"2cd5b40997c2a32460e3a1f0729b9baf\", element=\"F0041A12906EB3CE9968F302E6B44CA9_element_908\")>,\n",
       " <selenium.webdriver.remote.webelement.WebElement (session=\"2cd5b40997c2a32460e3a1f0729b9baf\", element=\"F0041A12906EB3CE9968F302E6B44CA9_element_909\")>,\n",
       " <selenium.webdriver.remote.webelement.WebElement (session=\"2cd5b40997c2a32460e3a1f0729b9baf\", element=\"F0041A12906EB3CE9968F302E6B44CA9_element_910\")>,\n",
       " <selenium.webdriver.remote.webelement.WebElement (session=\"2cd5b40997c2a32460e3a1f0729b9baf\", element=\"F0041A12906EB3CE9968F302E6B44CA9_element_911\")>,\n",
       " <selenium.webdriver.remote.webelement.WebElement (session=\"2cd5b40997c2a32460e3a1f0729b9baf\", element=\"F0041A12906EB3CE9968F302E6B44CA9_element_912\")>,\n",
       " <selenium.webdriver.remote.webelement.WebElement (session=\"2cd5b40997c2a32460e3a1f0729b9baf\", element=\"F0041A12906EB3CE9968F302E6B44CA9_element_913\")>,\n",
       " <selenium.webdriver.remote.webelement.WebElement (session=\"2cd5b40997c2a32460e3a1f0729b9baf\", element=\"F0041A12906EB3CE9968F302E6B44CA9_element_914\")>,\n",
       " 'Project Coordinator (Data Analyst)',\n",
       " 'Project Coordinator (Data Analyst)',\n",
       " 'Data Analyst - Java/Python',\n",
       " 'Hiring For Data Analyst',\n",
       " 'Senior Data Analyst',\n",
       " 'Data Analyst',\n",
       " 'Data Analyst Urgent Recruiment',\n",
       " 'Apply Now a Data Analyst',\n",
       " 'Apply Now Data Analyst',\n",
       " 'Needed for Data Analyst']"
      ]
     },
     "execution_count": 67,
     "metadata": {},
     "output_type": "execute_result"
    }
   ],
   "source": [
    "Job_title = []\n",
    "\n",
    "Job_title=driver.find_elements(By.XPATH,'//h2[@itemprop=\"name\"]')\n",
    "for i in Job_title[:10]:\n",
    "    title = i.text\n",
    "    Job_title.append(title)\n",
    "\n",
    "Job_title"
   ]
  },
  {
   "cell_type": "code",
   "execution_count": 58,
   "id": "383af73a",
   "metadata": {},
   "outputs": [
    {
     "data": {
      "text/plain": [
       "[<selenium.webdriver.remote.webelement.WebElement (session=\"2cd5b40997c2a32460e3a1f0729b9baf\", element=\"F0041A12906EB3CE9968F302E6B44CA9_element_826\")>,\n",
       " <selenium.webdriver.remote.webelement.WebElement (session=\"2cd5b40997c2a32460e3a1f0729b9baf\", element=\"F0041A12906EB3CE9968F302E6B44CA9_element_828\")>,\n",
       " <selenium.webdriver.remote.webelement.WebElement (session=\"2cd5b40997c2a32460e3a1f0729b9baf\", element=\"F0041A12906EB3CE9968F302E6B44CA9_element_935\")>,\n",
       " <selenium.webdriver.remote.webelement.WebElement (session=\"2cd5b40997c2a32460e3a1f0729b9baf\", element=\"F0041A12906EB3CE9968F302E6B44CA9_element_936\")>,\n",
       " <selenium.webdriver.remote.webelement.WebElement (session=\"2cd5b40997c2a32460e3a1f0729b9baf\", element=\"F0041A12906EB3CE9968F302E6B44CA9_element_937\")>,\n",
       " <selenium.webdriver.remote.webelement.WebElement (session=\"2cd5b40997c2a32460e3a1f0729b9baf\", element=\"F0041A12906EB3CE9968F302E6B44CA9_element_938\")>,\n",
       " <selenium.webdriver.remote.webelement.WebElement (session=\"2cd5b40997c2a32460e3a1f0729b9baf\", element=\"F0041A12906EB3CE9968F302E6B44CA9_element_939\")>,\n",
       " <selenium.webdriver.remote.webelement.WebElement (session=\"2cd5b40997c2a32460e3a1f0729b9baf\", element=\"F0041A12906EB3CE9968F302E6B44CA9_element_940\")>,\n",
       " <selenium.webdriver.remote.webelement.WebElement (session=\"2cd5b40997c2a32460e3a1f0729b9baf\", element=\"F0041A12906EB3CE9968F302E6B44CA9_element_941\")>,\n",
       " <selenium.webdriver.remote.webelement.WebElement (session=\"2cd5b40997c2a32460e3a1f0729b9baf\", element=\"F0041A12906EB3CE9968F302E6B44CA9_element_942\")>,\n",
       " <selenium.webdriver.remote.webelement.WebElement (session=\"2cd5b40997c2a32460e3a1f0729b9baf\", element=\"F0041A12906EB3CE9968F302E6B44CA9_element_943\")>,\n",
       " <selenium.webdriver.remote.webelement.WebElement (session=\"2cd5b40997c2a32460e3a1f0729b9baf\", element=\"F0041A12906EB3CE9968F302E6B44CA9_element_944\")>,\n",
       " <selenium.webdriver.remote.webelement.WebElement (session=\"2cd5b40997c2a32460e3a1f0729b9baf\", element=\"F0041A12906EB3CE9968F302E6B44CA9_element_945\")>,\n",
       " <selenium.webdriver.remote.webelement.WebElement (session=\"2cd5b40997c2a32460e3a1f0729b9baf\", element=\"F0041A12906EB3CE9968F302E6B44CA9_element_946\")>,\n",
       " <selenium.webdriver.remote.webelement.WebElement (session=\"2cd5b40997c2a32460e3a1f0729b9baf\", element=\"F0041A12906EB3CE9968F302E6B44CA9_element_947\")>,\n",
       " <selenium.webdriver.remote.webelement.WebElement (session=\"2cd5b40997c2a32460e3a1f0729b9baf\", element=\"F0041A12906EB3CE9968F302E6B44CA9_element_948\")>,\n",
       " <selenium.webdriver.remote.webelement.WebElement (session=\"2cd5b40997c2a32460e3a1f0729b9baf\", element=\"F0041A12906EB3CE9968F302E6B44CA9_element_949\")>,\n",
       " <selenium.webdriver.remote.webelement.WebElement (session=\"2cd5b40997c2a32460e3a1f0729b9baf\", element=\"F0041A12906EB3CE9968F302E6B44CA9_element_950\")>,\n",
       " <selenium.webdriver.remote.webelement.WebElement (session=\"2cd5b40997c2a32460e3a1f0729b9baf\", element=\"F0041A12906EB3CE9968F302E6B44CA9_element_951\")>,\n",
       " <selenium.webdriver.remote.webelement.WebElement (session=\"2cd5b40997c2a32460e3a1f0729b9baf\", element=\"F0041A12906EB3CE9968F302E6B44CA9_element_952\")>,\n",
       " '2 to 4 Yrs',\n",
       " '2 to 4 Yrs',\n",
       " '3 to 6 Yrs',\n",
       " '0 to 4 Yrs',\n",
       " '2 to 5 Yrs',\n",
       " '7 to 12 Yrs',\n",
       " '0 to 4 Yrs',\n",
       " '1 to 2 Yrs',\n",
       " '1 to 2 Yrs',\n",
       " '1 to 2 Yrs']"
      ]
     },
     "execution_count": 58,
     "metadata": {},
     "output_type": "execute_result"
    }
   ],
   "source": [
    "experience"
   ]
  },
  {
   "cell_type": "code",
   "execution_count": 55,
   "id": "da2734a0",
   "metadata": {},
   "outputs": [
    {
     "data": {
      "text/plain": [
       "[<selenium.webdriver.remote.webelement.WebElement (session=\"2cd5b40997c2a32460e3a1f0729b9baf\", element=\"F0041A12906EB3CE9968F302E6B44CA9_element_827\")>,\n",
       " <selenium.webdriver.remote.webelement.WebElement (session=\"2cd5b40997c2a32460e3a1f0729b9baf\", element=\"F0041A12906EB3CE9968F302E6B44CA9_element_829\")>,\n",
       " <selenium.webdriver.remote.webelement.WebElement (session=\"2cd5b40997c2a32460e3a1f0729b9baf\", element=\"F0041A12906EB3CE9968F302E6B44CA9_element_953\")>,\n",
       " <selenium.webdriver.remote.webelement.WebElement (session=\"2cd5b40997c2a32460e3a1f0729b9baf\", element=\"F0041A12906EB3CE9968F302E6B44CA9_element_954\")>,\n",
       " <selenium.webdriver.remote.webelement.WebElement (session=\"2cd5b40997c2a32460e3a1f0729b9baf\", element=\"F0041A12906EB3CE9968F302E6B44CA9_element_955\")>,\n",
       " <selenium.webdriver.remote.webelement.WebElement (session=\"2cd5b40997c2a32460e3a1f0729b9baf\", element=\"F0041A12906EB3CE9968F302E6B44CA9_element_956\")>,\n",
       " <selenium.webdriver.remote.webelement.WebElement (session=\"2cd5b40997c2a32460e3a1f0729b9baf\", element=\"F0041A12906EB3CE9968F302E6B44CA9_element_957\")>,\n",
       " <selenium.webdriver.remote.webelement.WebElement (session=\"2cd5b40997c2a32460e3a1f0729b9baf\", element=\"F0041A12906EB3CE9968F302E6B44CA9_element_958\")>,\n",
       " <selenium.webdriver.remote.webelement.WebElement (session=\"2cd5b40997c2a32460e3a1f0729b9baf\", element=\"F0041A12906EB3CE9968F302E6B44CA9_element_959\")>,\n",
       " <selenium.webdriver.remote.webelement.WebElement (session=\"2cd5b40997c2a32460e3a1f0729b9baf\", element=\"F0041A12906EB3CE9968F302E6B44CA9_element_960\")>,\n",
       " <selenium.webdriver.remote.webelement.WebElement (session=\"2cd5b40997c2a32460e3a1f0729b9baf\", element=\"F0041A12906EB3CE9968F302E6B44CA9_element_961\")>,\n",
       " <selenium.webdriver.remote.webelement.WebElement (session=\"2cd5b40997c2a32460e3a1f0729b9baf\", element=\"F0041A12906EB3CE9968F302E6B44CA9_element_962\")>,\n",
       " <selenium.webdriver.remote.webelement.WebElement (session=\"2cd5b40997c2a32460e3a1f0729b9baf\", element=\"F0041A12906EB3CE9968F302E6B44CA9_element_963\")>,\n",
       " <selenium.webdriver.remote.webelement.WebElement (session=\"2cd5b40997c2a32460e3a1f0729b9baf\", element=\"F0041A12906EB3CE9968F302E6B44CA9_element_964\")>,\n",
       " <selenium.webdriver.remote.webelement.WebElement (session=\"2cd5b40997c2a32460e3a1f0729b9baf\", element=\"F0041A12906EB3CE9968F302E6B44CA9_element_965\")>,\n",
       " <selenium.webdriver.remote.webelement.WebElement (session=\"2cd5b40997c2a32460e3a1f0729b9baf\", element=\"F0041A12906EB3CE9968F302E6B44CA9_element_966\")>,\n",
       " <selenium.webdriver.remote.webelement.WebElement (session=\"2cd5b40997c2a32460e3a1f0729b9baf\", element=\"F0041A12906EB3CE9968F302E6B44CA9_element_967\")>,\n",
       " <selenium.webdriver.remote.webelement.WebElement (session=\"2cd5b40997c2a32460e3a1f0729b9baf\", element=\"F0041A12906EB3CE9968F302E6B44CA9_element_968\")>,\n",
       " <selenium.webdriver.remote.webelement.WebElement (session=\"2cd5b40997c2a32460e3a1f0729b9baf\", element=\"F0041A12906EB3CE9968F302E6B44CA9_element_969\")>,\n",
       " <selenium.webdriver.remote.webelement.WebElement (session=\"2cd5b40997c2a32460e3a1f0729b9baf\", element=\"F0041A12906EB3CE9968F302E6B44CA9_element_970\")>,\n",
       " 'Bangalore',\n",
       " 'Bangalore',\n",
       " 'Bangalore',\n",
       " 'Bangalore\\n+14',\n",
       " 'Bangalore',\n",
       " 'Bangalore\\n+9',\n",
       " 'Bangalore\\n+14',\n",
       " 'Bangalore',\n",
       " 'Bangalore',\n",
       " 'Bangalore']"
      ]
     },
     "execution_count": 55,
     "metadata": {},
     "output_type": "execute_result"
    }
   ],
   "source": [
    "location"
   ]
  },
  {
   "cell_type": "code",
   "execution_count": 66,
   "id": "d33e1cdf",
   "metadata": {},
   "outputs": [
    {
     "data": {
      "text/plain": [
       "[<selenium.webdriver.remote.webelement.WebElement (session=\"2cd5b40997c2a32460e3a1f0729b9baf\", element=\"F0041A12906EB3CE9968F302E6B44CA9_element_895\")>,\n",
       " <selenium.webdriver.remote.webelement.WebElement (session=\"2cd5b40997c2a32460e3a1f0729b9baf\", element=\"F0041A12906EB3CE9968F302E6B44CA9_element_896\")>,\n",
       " <selenium.webdriver.remote.webelement.WebElement (session=\"2cd5b40997c2a32460e3a1f0729b9baf\", element=\"F0041A12906EB3CE9968F302E6B44CA9_element_897\")>,\n",
       " <selenium.webdriver.remote.webelement.WebElement (session=\"2cd5b40997c2a32460e3a1f0729b9baf\", element=\"F0041A12906EB3CE9968F302E6B44CA9_element_898\")>,\n",
       " <selenium.webdriver.remote.webelement.WebElement (session=\"2cd5b40997c2a32460e3a1f0729b9baf\", element=\"F0041A12906EB3CE9968F302E6B44CA9_element_899\")>,\n",
       " <selenium.webdriver.remote.webelement.WebElement (session=\"2cd5b40997c2a32460e3a1f0729b9baf\", element=\"F0041A12906EB3CE9968F302E6B44CA9_element_900\")>,\n",
       " <selenium.webdriver.remote.webelement.WebElement (session=\"2cd5b40997c2a32460e3a1f0729b9baf\", element=\"F0041A12906EB3CE9968F302E6B44CA9_element_901\")>,\n",
       " <selenium.webdriver.remote.webelement.WebElement (session=\"2cd5b40997c2a32460e3a1f0729b9baf\", element=\"F0041A12906EB3CE9968F302E6B44CA9_element_902\")>,\n",
       " <selenium.webdriver.remote.webelement.WebElement (session=\"2cd5b40997c2a32460e3a1f0729b9baf\", element=\"F0041A12906EB3CE9968F302E6B44CA9_element_903\")>,\n",
       " <selenium.webdriver.remote.webelement.WebElement (session=\"2cd5b40997c2a32460e3a1f0729b9baf\", element=\"F0041A12906EB3CE9968F302E6B44CA9_element_904\")>,\n",
       " <selenium.webdriver.remote.webelement.WebElement (session=\"2cd5b40997c2a32460e3a1f0729b9baf\", element=\"F0041A12906EB3CE9968F302E6B44CA9_element_905\")>,\n",
       " <selenium.webdriver.remote.webelement.WebElement (session=\"2cd5b40997c2a32460e3a1f0729b9baf\", element=\"F0041A12906EB3CE9968F302E6B44CA9_element_906\")>,\n",
       " <selenium.webdriver.remote.webelement.WebElement (session=\"2cd5b40997c2a32460e3a1f0729b9baf\", element=\"F0041A12906EB3CE9968F302E6B44CA9_element_907\")>,\n",
       " <selenium.webdriver.remote.webelement.WebElement (session=\"2cd5b40997c2a32460e3a1f0729b9baf\", element=\"F0041A12906EB3CE9968F302E6B44CA9_element_908\")>,\n",
       " <selenium.webdriver.remote.webelement.WebElement (session=\"2cd5b40997c2a32460e3a1f0729b9baf\", element=\"F0041A12906EB3CE9968F302E6B44CA9_element_909\")>,\n",
       " <selenium.webdriver.remote.webelement.WebElement (session=\"2cd5b40997c2a32460e3a1f0729b9baf\", element=\"F0041A12906EB3CE9968F302E6B44CA9_element_910\")>,\n",
       " <selenium.webdriver.remote.webelement.WebElement (session=\"2cd5b40997c2a32460e3a1f0729b9baf\", element=\"F0041A12906EB3CE9968F302E6B44CA9_element_911\")>,\n",
       " <selenium.webdriver.remote.webelement.WebElement (session=\"2cd5b40997c2a32460e3a1f0729b9baf\", element=\"F0041A12906EB3CE9968F302E6B44CA9_element_912\")>,\n",
       " <selenium.webdriver.remote.webelement.WebElement (session=\"2cd5b40997c2a32460e3a1f0729b9baf\", element=\"F0041A12906EB3CE9968F302E6B44CA9_element_913\")>,\n",
       " <selenium.webdriver.remote.webelement.WebElement (session=\"2cd5b40997c2a32460e3a1f0729b9baf\", element=\"F0041A12906EB3CE9968F302E6B44CA9_element_914\")>,\n",
       " 'Project Coordinator (Data Analyst)',\n",
       " 'Project Coordinator (Data Analyst)',\n",
       " 'Data Analyst - Java/Python',\n",
       " 'Hiring For Data Analyst',\n",
       " 'Senior Data Analyst',\n",
       " 'Data Analyst',\n",
       " 'Data Analyst Urgent Recruiment',\n",
       " 'Apply Now a Data Analyst',\n",
       " 'Apply Now Data Analyst',\n",
       " 'Needed for Data Analyst']"
      ]
     },
     "execution_count": 66,
     "metadata": {},
     "output_type": "execute_result"
    }
   ],
   "source": [
    "Job_title"
   ]
  },
  {
   "cell_type": "code",
   "execution_count": 65,
   "id": "29c1cbb3",
   "metadata": {},
   "outputs": [
    {
     "data": {
      "text/html": [
       "<div>\n",
       "<style scoped>\n",
       "    .dataframe tbody tr th:only-of-type {\n",
       "        vertical-align: middle;\n",
       "    }\n",
       "\n",
       "    .dataframe tbody tr th {\n",
       "        vertical-align: top;\n",
       "    }\n",
       "\n",
       "    .dataframe thead th {\n",
       "        text-align: right;\n",
       "    }\n",
       "</style>\n",
       "<table border=\"1\" class=\"dataframe\">\n",
       "  <thead>\n",
       "    <tr style=\"text-align: right;\">\n",
       "      <th></th>\n",
       "      <th>POST</th>\n",
       "    </tr>\n",
       "  </thead>\n",
       "  <tbody>\n",
       "    <tr>\n",
       "      <th>0</th>\n",
       "      <td>&lt;selenium.webdriver.remote.webelement.WebEleme...</td>\n",
       "    </tr>\n",
       "    <tr>\n",
       "      <th>1</th>\n",
       "      <td>&lt;selenium.webdriver.remote.webelement.WebEleme...</td>\n",
       "    </tr>\n",
       "    <tr>\n",
       "      <th>2</th>\n",
       "      <td>&lt;selenium.webdriver.remote.webelement.WebEleme...</td>\n",
       "    </tr>\n",
       "    <tr>\n",
       "      <th>3</th>\n",
       "      <td>&lt;selenium.webdriver.remote.webelement.WebEleme...</td>\n",
       "    </tr>\n",
       "    <tr>\n",
       "      <th>4</th>\n",
       "      <td>&lt;selenium.webdriver.remote.webelement.WebEleme...</td>\n",
       "    </tr>\n",
       "    <tr>\n",
       "      <th>5</th>\n",
       "      <td>&lt;selenium.webdriver.remote.webelement.WebEleme...</td>\n",
       "    </tr>\n",
       "    <tr>\n",
       "      <th>6</th>\n",
       "      <td>&lt;selenium.webdriver.remote.webelement.WebEleme...</td>\n",
       "    </tr>\n",
       "    <tr>\n",
       "      <th>7</th>\n",
       "      <td>&lt;selenium.webdriver.remote.webelement.WebEleme...</td>\n",
       "    </tr>\n",
       "    <tr>\n",
       "      <th>8</th>\n",
       "      <td>&lt;selenium.webdriver.remote.webelement.WebEleme...</td>\n",
       "    </tr>\n",
       "    <tr>\n",
       "      <th>9</th>\n",
       "      <td>&lt;selenium.webdriver.remote.webelement.WebEleme...</td>\n",
       "    </tr>\n",
       "    <tr>\n",
       "      <th>10</th>\n",
       "      <td>&lt;selenium.webdriver.remote.webelement.WebEleme...</td>\n",
       "    </tr>\n",
       "    <tr>\n",
       "      <th>11</th>\n",
       "      <td>&lt;selenium.webdriver.remote.webelement.WebEleme...</td>\n",
       "    </tr>\n",
       "    <tr>\n",
       "      <th>12</th>\n",
       "      <td>&lt;selenium.webdriver.remote.webelement.WebEleme...</td>\n",
       "    </tr>\n",
       "    <tr>\n",
       "      <th>13</th>\n",
       "      <td>&lt;selenium.webdriver.remote.webelement.WebEleme...</td>\n",
       "    </tr>\n",
       "    <tr>\n",
       "      <th>14</th>\n",
       "      <td>&lt;selenium.webdriver.remote.webelement.WebEleme...</td>\n",
       "    </tr>\n",
       "    <tr>\n",
       "      <th>15</th>\n",
       "      <td>&lt;selenium.webdriver.remote.webelement.WebEleme...</td>\n",
       "    </tr>\n",
       "    <tr>\n",
       "      <th>16</th>\n",
       "      <td>&lt;selenium.webdriver.remote.webelement.WebEleme...</td>\n",
       "    </tr>\n",
       "    <tr>\n",
       "      <th>17</th>\n",
       "      <td>&lt;selenium.webdriver.remote.webelement.WebEleme...</td>\n",
       "    </tr>\n",
       "    <tr>\n",
       "      <th>18</th>\n",
       "      <td>&lt;selenium.webdriver.remote.webelement.WebEleme...</td>\n",
       "    </tr>\n",
       "    <tr>\n",
       "      <th>19</th>\n",
       "      <td>&lt;selenium.webdriver.remote.webelement.WebEleme...</td>\n",
       "    </tr>\n",
       "    <tr>\n",
       "      <th>20</th>\n",
       "      <td>Project Coordinator (Data Analyst)</td>\n",
       "    </tr>\n",
       "    <tr>\n",
       "      <th>21</th>\n",
       "      <td>Project Coordinator (Data Analyst)</td>\n",
       "    </tr>\n",
       "    <tr>\n",
       "      <th>22</th>\n",
       "      <td>Data Analyst - Java/Python</td>\n",
       "    </tr>\n",
       "    <tr>\n",
       "      <th>23</th>\n",
       "      <td>Hiring For Data Analyst</td>\n",
       "    </tr>\n",
       "    <tr>\n",
       "      <th>24</th>\n",
       "      <td>Senior Data Analyst</td>\n",
       "    </tr>\n",
       "    <tr>\n",
       "      <th>25</th>\n",
       "      <td>Data Analyst</td>\n",
       "    </tr>\n",
       "    <tr>\n",
       "      <th>26</th>\n",
       "      <td>Data Analyst Urgent Recruiment</td>\n",
       "    </tr>\n",
       "    <tr>\n",
       "      <th>27</th>\n",
       "      <td>Apply Now a Data Analyst</td>\n",
       "    </tr>\n",
       "    <tr>\n",
       "      <th>28</th>\n",
       "      <td>Apply Now Data Analyst</td>\n",
       "    </tr>\n",
       "    <tr>\n",
       "      <th>29</th>\n",
       "      <td>Needed for Data Analyst</td>\n",
       "    </tr>\n",
       "  </tbody>\n",
       "</table>\n",
       "</div>"
      ],
      "text/plain": [
       "                                                 POST\n",
       "0   <selenium.webdriver.remote.webelement.WebEleme...\n",
       "1   <selenium.webdriver.remote.webelement.WebEleme...\n",
       "2   <selenium.webdriver.remote.webelement.WebEleme...\n",
       "3   <selenium.webdriver.remote.webelement.WebEleme...\n",
       "4   <selenium.webdriver.remote.webelement.WebEleme...\n",
       "5   <selenium.webdriver.remote.webelement.WebEleme...\n",
       "6   <selenium.webdriver.remote.webelement.WebEleme...\n",
       "7   <selenium.webdriver.remote.webelement.WebEleme...\n",
       "8   <selenium.webdriver.remote.webelement.WebEleme...\n",
       "9   <selenium.webdriver.remote.webelement.WebEleme...\n",
       "10  <selenium.webdriver.remote.webelement.WebEleme...\n",
       "11  <selenium.webdriver.remote.webelement.WebEleme...\n",
       "12  <selenium.webdriver.remote.webelement.WebEleme...\n",
       "13  <selenium.webdriver.remote.webelement.WebEleme...\n",
       "14  <selenium.webdriver.remote.webelement.WebEleme...\n",
       "15  <selenium.webdriver.remote.webelement.WebEleme...\n",
       "16  <selenium.webdriver.remote.webelement.WebEleme...\n",
       "17  <selenium.webdriver.remote.webelement.WebEleme...\n",
       "18  <selenium.webdriver.remote.webelement.WebEleme...\n",
       "19  <selenium.webdriver.remote.webelement.WebEleme...\n",
       "20                 Project Coordinator (Data Analyst)\n",
       "21                 Project Coordinator (Data Analyst)\n",
       "22                         Data Analyst - Java/Python\n",
       "23                            Hiring For Data Analyst\n",
       "24                                Senior Data Analyst\n",
       "25                                       Data Analyst\n",
       "26                     Data Analyst Urgent Recruiment\n",
       "27                           Apply Now a Data Analyst\n",
       "28                             Apply Now Data Analyst\n",
       "29                            Needed for Data Analyst"
      ]
     },
     "execution_count": 65,
     "metadata": {},
     "output_type": "execute_result"
    }
   ],
   "source": [
    "data=pd.DataFrame({'POST':Job_title})\n",
    "data"
   ]
  },
  {
   "cell_type": "code",
   "execution_count": null,
   "id": "dfc0624e",
   "metadata": {},
   "outputs": [],
   "source": [
    "company_name=driver.find_elements(By.XPATH,'//div[@class=\"jobCard_jobCard_cName__mYnow\"]')\n",
    "for i in company_name[:10]:\n",
    "    company=i.text\n",
    "    company_name.append(company)\n",
    "    \n",
    "experience=driver.find_elements(By.XPATH,'//div[@class=\" jobCard_jobCard_lists_item__YxRkV jobCard_jobIcon__3FB1t\"]')\n",
    "for i in experience[0:10]:\n",
    "    exp=i.text\n",
    "    experience.append(exp)\n",
    "    \n",
    "location=driver.find_elements(By.XPATH,'//div[@class=\" jobCard_jobCard_lists_item__YxRkV jobCard_locationIcon__zrWt2\"]')\n",
    "for i in location[:10]:\n",
    "    loc=i.text\n",
    "    location.append(loc)"
   ]
  },
  {
   "cell_type": "code",
   "execution_count": 68,
   "id": "a5fce363",
   "metadata": {},
   "outputs": [
    {
     "data": {
      "text/plain": [
       "[<selenium.webdriver.remote.webelement.WebElement (session=\"2cd5b40997c2a32460e3a1f0729b9baf\", element=\"F0041A12906EB3CE9968F302E6B44CA9_element_915\")>,\n",
       " <selenium.webdriver.remote.webelement.WebElement (session=\"2cd5b40997c2a32460e3a1f0729b9baf\", element=\"F0041A12906EB3CE9968F302E6B44CA9_element_916\")>,\n",
       " <selenium.webdriver.remote.webelement.WebElement (session=\"2cd5b40997c2a32460e3a1f0729b9baf\", element=\"F0041A12906EB3CE9968F302E6B44CA9_element_917\")>,\n",
       " <selenium.webdriver.remote.webelement.WebElement (session=\"2cd5b40997c2a32460e3a1f0729b9baf\", element=\"F0041A12906EB3CE9968F302E6B44CA9_element_918\")>,\n",
       " <selenium.webdriver.remote.webelement.WebElement (session=\"2cd5b40997c2a32460e3a1f0729b9baf\", element=\"F0041A12906EB3CE9968F302E6B44CA9_element_919\")>,\n",
       " <selenium.webdriver.remote.webelement.WebElement (session=\"2cd5b40997c2a32460e3a1f0729b9baf\", element=\"F0041A12906EB3CE9968F302E6B44CA9_element_920\")>,\n",
       " <selenium.webdriver.remote.webelement.WebElement (session=\"2cd5b40997c2a32460e3a1f0729b9baf\", element=\"F0041A12906EB3CE9968F302E6B44CA9_element_921\")>,\n",
       " <selenium.webdriver.remote.webelement.WebElement (session=\"2cd5b40997c2a32460e3a1f0729b9baf\", element=\"F0041A12906EB3CE9968F302E6B44CA9_element_922\")>,\n",
       " <selenium.webdriver.remote.webelement.WebElement (session=\"2cd5b40997c2a32460e3a1f0729b9baf\", element=\"F0041A12906EB3CE9968F302E6B44CA9_element_923\")>,\n",
       " <selenium.webdriver.remote.webelement.WebElement (session=\"2cd5b40997c2a32460e3a1f0729b9baf\", element=\"F0041A12906EB3CE9968F302E6B44CA9_element_924\")>,\n",
       " <selenium.webdriver.remote.webelement.WebElement (session=\"2cd5b40997c2a32460e3a1f0729b9baf\", element=\"F0041A12906EB3CE9968F302E6B44CA9_element_925\")>,\n",
       " <selenium.webdriver.remote.webelement.WebElement (session=\"2cd5b40997c2a32460e3a1f0729b9baf\", element=\"F0041A12906EB3CE9968F302E6B44CA9_element_926\")>,\n",
       " <selenium.webdriver.remote.webelement.WebElement (session=\"2cd5b40997c2a32460e3a1f0729b9baf\", element=\"F0041A12906EB3CE9968F302E6B44CA9_element_927\")>,\n",
       " <selenium.webdriver.remote.webelement.WebElement (session=\"2cd5b40997c2a32460e3a1f0729b9baf\", element=\"F0041A12906EB3CE9968F302E6B44CA9_element_928\")>,\n",
       " <selenium.webdriver.remote.webelement.WebElement (session=\"2cd5b40997c2a32460e3a1f0729b9baf\", element=\"F0041A12906EB3CE9968F302E6B44CA9_element_929\")>,\n",
       " <selenium.webdriver.remote.webelement.WebElement (session=\"2cd5b40997c2a32460e3a1f0729b9baf\", element=\"F0041A12906EB3CE9968F302E6B44CA9_element_930\")>,\n",
       " <selenium.webdriver.remote.webelement.WebElement (session=\"2cd5b40997c2a32460e3a1f0729b9baf\", element=\"F0041A12906EB3CE9968F302E6B44CA9_element_931\")>,\n",
       " <selenium.webdriver.remote.webelement.WebElement (session=\"2cd5b40997c2a32460e3a1f0729b9baf\", element=\"F0041A12906EB3CE9968F302E6B44CA9_element_932\")>,\n",
       " <selenium.webdriver.remote.webelement.WebElement (session=\"2cd5b40997c2a32460e3a1f0729b9baf\", element=\"F0041A12906EB3CE9968F302E6B44CA9_element_933\")>,\n",
       " <selenium.webdriver.remote.webelement.WebElement (session=\"2cd5b40997c2a32460e3a1f0729b9baf\", element=\"F0041A12906EB3CE9968F302E6B44CA9_element_934\")>,\n",
       " 'futures and careers',\n",
       " 'futures and careers',\n",
       " 'boyen haddin consulting and technol...',\n",
       " 'kavya staffing solutions',\n",
       " 'ara resources private limited',\n",
       " 'ashutosh sabhashankar chaturvedi hi...',\n",
       " 'divya interprises',\n",
       " 'deuglo infosystem private limited',\n",
       " 'deuglo infosystem private limited',\n",
       " 'deuglo infosystem private limited']"
      ]
     },
     "execution_count": 68,
     "metadata": {},
     "output_type": "execute_result"
    }
   ],
   "source": [
    "company_name=[]\n",
    "company_name=driver.find_elements(By.XPATH,'//div[@class=\"jobCard_jobCard_cName__mYnow\"]')\n",
    "for i in company_name[:10]:\n",
    "    company=i.text\n",
    "    company_name.append(company)\n",
    "company_name"
   ]
  },
  {
   "cell_type": "code",
   "execution_count": null,
   "id": "9510d1b6",
   "metadata": {},
   "outputs": [],
   "source": []
  }
 ],
 "metadata": {
  "kernelspec": {
   "display_name": "Python 3 (ipykernel)",
   "language": "python",
   "name": "python3"
  },
  "language_info": {
   "codemirror_mode": {
    "name": "ipython",
    "version": 3
   },
   "file_extension": ".py",
   "mimetype": "text/x-python",
   "name": "python",
   "nbconvert_exporter": "python",
   "pygments_lexer": "ipython3",
   "version": "3.9.13"
  }
 },
 "nbformat": 4,
 "nbformat_minor": 5
}
