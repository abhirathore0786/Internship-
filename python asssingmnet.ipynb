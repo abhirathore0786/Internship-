{
 "cells": [
  {
   "cell_type": "code",
   "execution_count": 1,
   "id": "a057b14b",
   "metadata": {},
   "outputs": [
    {
     "name": "stdout",
     "output_type": "stream",
     "text": [
      "Enter any number: 6\n",
      "factorial is 720\n"
     ]
    }
   ],
   "source": [
    "n=int(input('Enter any number: '))\n",
    "\n",
    "fact=1\n",
    "if n < 0:\n",
    "    print('no factorial')\n",
    "elif n==0:\n",
    "        print('fact is 1')\n",
    "else:\n",
    "    while(n > 0):\n",
    "        fact = fact * n\n",
    "        n= n - 1\n",
    "    print('factorial is',fact)"
   ]
  },
  {
   "cell_type": "code",
   "execution_count": 3,
   "id": "bcf3f8a5",
   "metadata": {},
   "outputs": [
    {
     "name": "stdout",
     "output_type": "stream",
     "text": [
      "ENTER ANY NUMBER: 5\n",
      "5 is prime\n"
     ]
    }
   ],
   "source": [
    "n=int(input('ENTER ANY NUMBER: '))\n",
    "\n",
    "if n>1:\n",
    "    for i in range(2,n):\n",
    "        if n%i==0:\n",
    "            print(n,'is composite')\n",
    "            break\n",
    "        else:\n",
    "            print(n,'is prime')\n",
    "            break\n",
    "elif n==1:\n",
    "    print('1 is neither prime nor composite')\n",
    "        \n",
    "elif n==0:\n",
    "    print('0 is neither prime nor composite')\n",
    "                    \n",
    "\n"
   ]
  },
  {
   "cell_type": "code",
   "execution_count": 2,
   "id": "986e3fb3",
   "metadata": {},
   "outputs": [
    {
     "name": "stdout",
     "output_type": "stream",
     "text": [
      "enter any line wow\n",
      "string is parindrome\n"
     ]
    }
   ],
   "source": [
    "str=input('enter any line ')\n",
    "\n",
    "rev_str=reversed(str)\n",
    "\n",
    "if list(str)==list(rev_str):\n",
    "    print('string is parindrome')\n",
    "else:\n",
    "    print('string is not parindrome')"
   ]
  },
  {
   "cell_type": "code",
   "execution_count": 3,
   "id": "c309f728",
   "metadata": {},
   "outputs": [
    {
     "name": "stdout",
     "output_type": "stream",
     "text": [
      "enter angle 1 90\n",
      "enter agnle 2 50\n",
      "ang3= 40\n"
     ]
    }
   ],
   "source": [
    "ang1=int(input('enter angle 1 '))\n",
    "ang2=int(input('enter agnle 2 '))\n",
    "\n",
    "sum_of_all_angles=180\n",
    "while(ang1 and ang2 > 0):\n",
    "    if (ang1 or ang2)==90:\n",
    "        print('ang3=',(sum_of_all_angles)-(ang1+ang2))\n",
    "        break\n",
    "    else:\n",
    "        print('One angle must be 90 in right angled triangle')\n",
    "        break\n",
    "            \n"
   ]
  },
  {
   "cell_type": "code",
   "execution_count": 2,
   "id": "1a85227d",
   "metadata": {},
   "outputs": [
    {
     "name": "stdout",
     "output_type": "stream",
     "text": [
      "enter any stringmy name is abhishek\n",
      "Frequency of words  {'m': 2, 'y': 1, ' ': 3, 'n': 1, 'a': 2, 'e': 2, 'i': 2, 's': 2, 'b': 1, 'h': 2, 'k': 1}\n"
     ]
    }
   ],
   "source": [
    "string1=input('enter any string')\n",
    "\n",
    "freq = {}\n",
    " \n",
    "for i in string1:\n",
    "    if i in freq:\n",
    "        freq[i] += 1\n",
    "    else:\n",
    "        freq[i] = 1\n",
    "print('Frequency of words ',str(freq))\n",
    " "
   ]
  },
  {
   "cell_type": "code",
   "execution_count": null,
   "id": "032f6a71",
   "metadata": {},
   "outputs": [],
   "source": []
  }
 ],
 "metadata": {
  "kernelspec": {
   "display_name": "Python 3 (ipykernel)",
   "language": "python",
   "name": "python3"
  },
  "language_info": {
   "codemirror_mode": {
    "name": "ipython",
    "version": 3
   },
   "file_extension": ".py",
   "mimetype": "text/x-python",
   "name": "python",
   "nbconvert_exporter": "python",
   "pygments_lexer": "ipython3",
   "version": "3.9.13"
  }
 },
 "nbformat": 4,
 "nbformat_minor": 5
}
